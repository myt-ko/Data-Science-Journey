{
  "nbformat": 4,
  "nbformat_minor": 0,
  "metadata": {
    "colab": {
      "provenance": [],
      "collapsed_sections": [
        "PZkkSSTnX7hF",
        "BdrzOjuFb21f"
      ]
    },
    "kernelspec": {
      "name": "python3",
      "display_name": "Python 3"
    },
    "language_info": {
      "name": "python"
    }
  },
  "cells": [
    {
      "cell_type": "markdown",
      "source": [
        "SymPy is a python library for __symbolic mathematics__."
      ],
      "metadata": {
        "id": "ewXhxysLXrP5"
      }
    },
    {
      "cell_type": "code",
      "execution_count": 1,
      "metadata": {
        "id": "oThSeS-GXolE"
      },
      "outputs": [],
      "source": [
        "import sympy as sp"
      ]
    },
    {
      "cell_type": "markdown",
      "source": [
        "### Numeric VS Symbolic Computation\n",
        "---"
      ],
      "metadata": {
        "id": "PZkkSSTnX7hF"
      }
    },
    {
      "cell_type": "markdown",
      "source": [
        "**Numeric** computations are always concerned with finite *decimal numbers*. Hence they can not represent $\\pi$, $\\frac{1}{3}$, and $\\sqrt{2}$ exactly.\n",
        "\n",
        "For example the numeric approximation of $\\sqrt{2}$ with 8 decimals is\n",
        "$$\\sqrt{2}\\approx{1.41421356}.$$\n",
        "\n",
        "---"
      ],
      "metadata": {
        "id": "aY8KWD6rYw7A"
      }
    },
    {
      "cell_type": "markdown",
      "source": [
        "**Symbolic** computations are concerned with representing numbers as *symbols satisfying mathematical rules*. Hence they represent $\\pi$, $\\frac{1}{3}$, and $\\sqrt{2}$ exactly.\n",
        "\n",
        "For example, the symbolic representation of $\\sqrt{2}$ is defined by the relation that\n",
        "$$\\sqrt{2}^2=2.$$\n",
        "\n",
        "---"
      ],
      "metadata": {
        "id": "wrctibAmY4NX"
      }
    },
    {
      "cell_type": "markdown",
      "source": [
        "Neither is better than the other. They are both useful in different situations.\n",
        "\n",
        "For example, numerical computing is great for graphing or visualization, while symbolic computing is great for understanding the essential features of, say, an equation."
      ],
      "metadata": {
        "id": "EV1mPGdoZirs"
      }
    },
    {
      "cell_type": "code",
      "source": [
        "#@title $\\sqrt{2}$\n",
        "\n",
        "print(\"Numeric:\\n\", 2 ** .5, \"\\n\", sep=\"\")\n",
        "\n",
        "print(\"Symbolic:\")\n",
        "sp.sqrt(2)"
      ],
      "metadata": {
        "colab": {
          "base_uri": "https://localhost:8080/",
          "height": 107
        },
        "id": "Zb6U2SF-af0N",
        "outputId": "e2b0d275-938b-47ba-efbc-1cf763dad943"
      },
      "execution_count": 2,
      "outputs": [
        {
          "output_type": "stream",
          "name": "stdout",
          "text": [
            "Numeric:\n",
            "1.4142135623730951\n",
            "\n",
            "Symbolic:\n"
          ]
        },
        {
          "output_type": "execute_result",
          "data": {
            "text/plain": [
              "sqrt(2)"
            ],
            "text/latex": "$\\displaystyle \\sqrt{2}$"
          },
          "metadata": {},
          "execution_count": 2
        }
      ]
    },
    {
      "cell_type": "code",
      "source": [
        "#@title $\\sqrt{2}^2$\n",
        "\n",
        "print(\"Numeric:\\n\", (2 ** .5) ** 2, \"\\n\", sep=\"\")\n",
        "\n",
        "print(\"Symbolic:\")\n",
        "sp.sqrt(2) ** 2"
      ],
      "metadata": {
        "colab": {
          "base_uri": "https://localhost:8080/",
          "height": 105
        },
        "id": "GmVBOq63atHa",
        "outputId": "7decf5eb-568e-4c89-f579-002628b71a5d"
      },
      "execution_count": 3,
      "outputs": [
        {
          "output_type": "stream",
          "name": "stdout",
          "text": [
            "Numeric:\n",
            "2.0000000000000004\n",
            "\n",
            "Symbolic:\n"
          ]
        },
        {
          "output_type": "execute_result",
          "data": {
            "text/plain": [
              "2"
            ],
            "text/latex": "$\\displaystyle 2$"
          },
          "metadata": {},
          "execution_count": 3
        }
      ]
    },
    {
      "cell_type": "code",
      "source": [],
      "metadata": {
        "id": "aJSIPZdm7-RK"
      },
      "execution_count": 3,
      "outputs": []
    },
    {
      "cell_type": "markdown",
      "source": [
        "## Defining Symbols"
      ],
      "metadata": {
        "id": "BdrzOjuFb21f"
      }
    },
    {
      "cell_type": "markdown",
      "source": [
        "In mathematics, we often work with unknowns or variables. In SymPy we can define these kinds of objects by using the symbol class."
      ],
      "metadata": {
        "id": "esgnQNCHcEnZ"
      }
    },
    {
      "cell_type": "code",
      "source": [
        "#@title Make a symbol $x$\n",
        "x = sp.Symbol(\"x\")\n",
        "x"
      ],
      "metadata": {
        "colab": {
          "base_uri": "https://localhost:8080/",
          "height": 38
        },
        "id": "EFCLeV_oa8Tc",
        "outputId": "03b1d0d3-3481-4353-d775-9db0336201a8"
      },
      "execution_count": 4,
      "outputs": [
        {
          "output_type": "execute_result",
          "data": {
            "text/plain": [
              "x"
            ],
            "text/latex": "$\\displaystyle x$"
          },
          "metadata": {},
          "execution_count": 4
        }
      ]
    },
    {
      "cell_type": "markdown",
      "source": [
        "**Note:** The variable name and symbol name do not need to coincide."
      ],
      "metadata": {
        "id": "kHHOCMNXcwWt"
      }
    },
    {
      "cell_type": "code",
      "source": [
        "#@title An simple expression\n",
        "1 - 2 * x**2"
      ],
      "metadata": {
        "colab": {
          "base_uri": "https://localhost:8080/",
          "height": 38
        },
        "id": "xCrj61KPcXOG",
        "outputId": "30826b58-5ef1-402f-d01a-d4ab159bc2c9"
      },
      "execution_count": 5,
      "outputs": [
        {
          "output_type": "execute_result",
          "data": {
            "text/plain": [
              "1 - 2*x**2"
            ],
            "text/latex": "$\\displaystyle 1 - 2 x^{2}$"
          },
          "metadata": {},
          "execution_count": 5
        }
      ]
    },
    {
      "cell_type": "markdown",
      "source": [
        "### Symplification"
      ],
      "metadata": {
        "id": "sbnszHurc_84"
      }
    },
    {
      "cell_type": "markdown",
      "source": [
        "Sometimes SymPy expressions are automatically simplified"
      ],
      "metadata": {
        "id": "IyYIvgqrdGIr"
      }
    },
    {
      "cell_type": "code",
      "source": [
        "1 - 2*x**2 + 2"
      ],
      "metadata": {
        "colab": {
          "base_uri": "https://localhost:8080/",
          "height": 38
        },
        "id": "tkyNsMUedFm_",
        "outputId": "2a969153-66d8-4b3a-d743-da36cdf663e2"
      },
      "execution_count": 6,
      "outputs": [
        {
          "output_type": "execute_result",
          "data": {
            "text/plain": [
              "3 - 2*x**2"
            ],
            "text/latex": "$\\displaystyle 3 - 2 x^{2}$"
          },
          "metadata": {},
          "execution_count": 6
        }
      ]
    },
    {
      "cell_type": "code",
      "source": [
        "sp.sin(x) ** 2 + sp.cos(x) ** 2"
      ],
      "metadata": {
        "colab": {
          "base_uri": "https://localhost:8080/",
          "height": 38
        },
        "id": "K5e0LhX8cmir",
        "outputId": "1b29fac9-9620-46a6-dc48-2446c601d314"
      },
      "execution_count": 7,
      "outputs": [
        {
          "output_type": "execute_result",
          "data": {
            "text/plain": [
              "sin(x)**2 + cos(x)**2"
            ],
            "text/latex": "$\\displaystyle \\sin^{2}{\\left(x \\right)} + \\cos^{2}{\\left(x \\right)}$"
          },
          "metadata": {},
          "execution_count": 7
        }
      ]
    },
    {
      "cell_type": "code",
      "source": [
        "10*x/6"
      ],
      "metadata": {
        "colab": {
          "base_uri": "https://localhost:8080/",
          "height": 51
        },
        "id": "WVwTrQjwdY5Q",
        "outputId": "6acecf66-5efd-4af5-ebcb-a579b31f65e2"
      },
      "execution_count": 8,
      "outputs": [
        {
          "output_type": "execute_result",
          "data": {
            "text/plain": [
              "5*x/3"
            ],
            "text/latex": "$\\displaystyle \\frac{5 x}{3}$"
          },
          "metadata": {},
          "execution_count": 8
        }
      ]
    },
    {
      "cell_type": "markdown",
      "source": [
        "### Expand Expression"
      ],
      "metadata": {
        "id": "jqT-TS87d6PE"
      }
    },
    {
      "cell_type": "code",
      "source": [
        "expr = x * (x - 1)\n",
        "expr"
      ],
      "metadata": {
        "colab": {
          "base_uri": "https://localhost:8080/",
          "height": 38
        },
        "id": "eNM642MKd9UR",
        "outputId": "0d6c0061-056b-46b6-891c-ad265b037ef1"
      },
      "execution_count": 9,
      "outputs": [
        {
          "output_type": "execute_result",
          "data": {
            "text/plain": [
              "x*(x - 1)"
            ],
            "text/latex": "$\\displaystyle x \\left(x - 1\\right)$"
          },
          "metadata": {},
          "execution_count": 9
        }
      ]
    },
    {
      "cell_type": "code",
      "source": [
        "expr.expand()"
      ],
      "metadata": {
        "colab": {
          "base_uri": "https://localhost:8080/",
          "height": 38
        },
        "id": "O9se0xITdgEQ",
        "outputId": "9c3f46c3-dd2b-449b-b74c-eebbabc409a6"
      },
      "execution_count": 10,
      "outputs": [
        {
          "output_type": "execute_result",
          "data": {
            "text/plain": [
              "x**2 - x"
            ],
            "text/latex": "$\\displaystyle x^{2} - x$"
          },
          "metadata": {},
          "execution_count": 10
        }
      ]
    },
    {
      "cell_type": "markdown",
      "source": [
        "**Note:** The expression itself does not change"
      ],
      "metadata": {
        "id": "Fs-6ZajgeUdF"
      }
    },
    {
      "cell_type": "code",
      "source": [
        "#@title Can define multiple symbols at once\n",
        "y, z = sp.symbols(\"y z\")\n",
        "y"
      ],
      "metadata": {
        "colab": {
          "base_uri": "https://localhost:8080/",
          "height": 38
        },
        "id": "Dms6nR72eNmL",
        "outputId": "9da07277-1e90-4cad-baf7-62bf0465e8df"
      },
      "execution_count": 11,
      "outputs": [
        {
          "output_type": "execute_result",
          "data": {
            "text/plain": [
              "y"
            ],
            "text/latex": "$\\displaystyle y$"
          },
          "metadata": {},
          "execution_count": 11
        }
      ]
    },
    {
      "cell_type": "code",
      "source": [
        "poly = y*(y+1)*(z*2-3)\n",
        "poly"
      ],
      "metadata": {
        "colab": {
          "base_uri": "https://localhost:8080/",
          "height": 38
        },
        "id": "6d6uVUaEeres",
        "outputId": "312d0a16-3944-464a-d0e3-233e3c59726a"
      },
      "execution_count": 12,
      "outputs": [
        {
          "output_type": "execute_result",
          "data": {
            "text/plain": [
              "y*(y + 1)*(2*z - 3)"
            ],
            "text/latex": "$\\displaystyle y \\left(y + 1\\right) \\left(2 z - 3\\right)$"
          },
          "metadata": {},
          "execution_count": 12
        }
      ]
    },
    {
      "cell_type": "code",
      "source": [
        "poly.expand()"
      ],
      "metadata": {
        "colab": {
          "base_uri": "https://localhost:8080/",
          "height": 38
        },
        "id": "DOtypKGzfMhs",
        "outputId": "20cca326-58fc-42fe-e41e-836d18f1e771"
      },
      "execution_count": 13,
      "outputs": [
        {
          "output_type": "execute_result",
          "data": {
            "text/plain": [
              "2*y**2*z - 3*y**2 + 2*y*z - 3*y"
            ],
            "text/latex": "$\\displaystyle 2 y^{2} z - 3 y^{2} + 2 y z - 3 y$"
          },
          "metadata": {},
          "execution_count": 13
        }
      ]
    },
    {
      "cell_type": "markdown",
      "source": [
        "### Factor Expression"
      ],
      "metadata": {
        "id": "5BWmVY5ufYMD"
      }
    },
    {
      "cell_type": "code",
      "source": [
        "expr = x**2 + 2*x-15\n",
        "expr"
      ],
      "metadata": {
        "colab": {
          "base_uri": "https://localhost:8080/",
          "height": 38
        },
        "id": "w5hCz8WIfQh5",
        "outputId": "a7370c19-fc7b-4902-a7f6-ac71f942a2d8"
      },
      "execution_count": 14,
      "outputs": [
        {
          "output_type": "execute_result",
          "data": {
            "text/plain": [
              "x**2 + 2*x - 15"
            ],
            "text/latex": "$\\displaystyle x^{2} + 2 x - 15$"
          },
          "metadata": {},
          "execution_count": 14
        }
      ]
    },
    {
      "cell_type": "code",
      "source": [
        "expr.factor()"
      ],
      "metadata": {
        "colab": {
          "base_uri": "https://localhost:8080/",
          "height": 38
        },
        "id": "u8366NyNfiQn",
        "outputId": "20717779-03f4-4708-fd09-5caead407c2b"
      },
      "execution_count": 15,
      "outputs": [
        {
          "output_type": "execute_result",
          "data": {
            "text/plain": [
              "(x - 3)*(x + 5)"
            ],
            "text/latex": "$\\displaystyle \\left(x - 3\\right) \\left(x + 5\\right)$"
          },
          "metadata": {},
          "execution_count": 15
        }
      ]
    },
    {
      "cell_type": "markdown",
      "source": [
        "**Note:** The factor method will not always manage to factor your expression. We know that for fifth degrees polynomials and above there does not exist an explicit algorithm to find all the roots. So even though you end up with SymPy saying that there exists no answer or not giving you a factored expression this does not mean that it does not exist any."
      ],
      "metadata": {
        "id": "xk39UbIqfs-X"
      }
    },
    {
      "cell_type": "code",
      "source": [
        "#@title Can make many symbols as follows\n",
        "x_v = sp.symbols(\"x0:3\")\n",
        "x_v"
      ],
      "metadata": {
        "colab": {
          "base_uri": "https://localhost:8080/"
        },
        "id": "kuFMBcnnfjxH",
        "outputId": "e8438569-0b3a-4cb1-df40-2043eef8187a"
      },
      "execution_count": 16,
      "outputs": [
        {
          "output_type": "execute_result",
          "data": {
            "text/plain": [
              "(x0, x1, x2)"
            ]
          },
          "metadata": {},
          "execution_count": 16
        }
      ]
    },
    {
      "cell_type": "code",
      "source": [
        "expr = x_v[0] ** 2 * x_v[1] * x_v[2] + x_v[2] * x_v[1]\n",
        "expr"
      ],
      "metadata": {
        "colab": {
          "base_uri": "https://localhost:8080/",
          "height": 38
        },
        "id": "_683BcZBgrW1",
        "outputId": "df0ba17f-9df6-45e6-c4f8-e4cda2c0dae6"
      },
      "execution_count": 17,
      "outputs": [
        {
          "output_type": "execute_result",
          "data": {
            "text/plain": [
              "x0**2*x1*x2 + x1*x2"
            ],
            "text/latex": "$\\displaystyle x_{0}^{2} x_{1} x_{2} + x_{1} x_{2}$"
          },
          "metadata": {},
          "execution_count": 17
        }
      ]
    },
    {
      "cell_type": "code",
      "source": [
        "expr.factor()"
      ],
      "metadata": {
        "colab": {
          "base_uri": "https://localhost:8080/",
          "height": 39
        },
        "id": "q_IV32nzg7-l",
        "outputId": "184da05d-697e-4f7d-850c-861de9dfeacc"
      },
      "execution_count": 18,
      "outputs": [
        {
          "output_type": "execute_result",
          "data": {
            "text/plain": [
              "x1*x2*(x0**2 + 1)"
            ],
            "text/latex": "$\\displaystyle x_{1} x_{2} \\left(x_{0}^{2} + 1\\right)$"
          },
          "metadata": {},
          "execution_count": 18
        }
      ]
    },
    {
      "cell_type": "markdown",
      "source": [
        "## Data Types and Common Functions"
      ],
      "metadata": {
        "id": "aPqkMtbghUNR"
      }
    },
    {
      "cell_type": "code",
      "source": [
        "x = sp.S(\"x\")\n",
        "x ** (1/3)"
      ],
      "metadata": {
        "colab": {
          "base_uri": "https://localhost:8080/",
          "height": 38
        },
        "id": "_3qJfrLhg9i7",
        "outputId": "c5397cde-8849-4660-9fe2-9cf4fe52c801"
      },
      "execution_count": 19,
      "outputs": [
        {
          "output_type": "execute_result",
          "data": {
            "text/plain": [
              "x**0.333333333333333"
            ],
            "text/latex": "$\\displaystyle x^{0.333333333333333}$"
          },
          "metadata": {},
          "execution_count": 19
        }
      ]
    },
    {
      "cell_type": "markdown",
      "source": [
        "### SymPy's Integer Type"
      ],
      "metadata": {
        "id": "o8OXPXzchwUq"
      }
    },
    {
      "cell_type": "code",
      "source": [
        "x ** (sp.Integer(1)/3)"
      ],
      "metadata": {
        "colab": {
          "base_uri": "https://localhost:8080/",
          "height": 37
        },
        "id": "gqVNErC-hYtx",
        "outputId": "c95b5dc5-9838-471b-a70b-299f962e2fe2"
      },
      "execution_count": 20,
      "outputs": [
        {
          "output_type": "execute_result",
          "data": {
            "text/plain": [
              "x**(1/3)"
            ],
            "text/latex": "$\\displaystyle \\sqrt[3]{x}$"
          },
          "metadata": {},
          "execution_count": 20
        }
      ]
    },
    {
      "cell_type": "code",
      "source": [
        "x ** (sp.S(1)/3)"
      ],
      "metadata": {
        "colab": {
          "base_uri": "https://localhost:8080/",
          "height": 37
        },
        "id": "ia8jWSEth6WP",
        "outputId": "b703034d-c8b1-487a-9d20-45e88d911409"
      },
      "execution_count": 21,
      "outputs": [
        {
          "output_type": "execute_result",
          "data": {
            "text/plain": [
              "x**(1/3)"
            ],
            "text/latex": "$\\displaystyle \\sqrt[3]{x}$"
          },
          "metadata": {},
          "execution_count": 21
        }
      ]
    },
    {
      "cell_type": "markdown",
      "source": [
        "### SymPy's Rational Type"
      ],
      "metadata": {
        "id": "i10xDCS8iZtx"
      }
    },
    {
      "cell_type": "code",
      "source": [
        "sp.Rational(1, 3)"
      ],
      "metadata": {
        "colab": {
          "base_uri": "https://localhost:8080/",
          "height": 51
        },
        "id": "_uARK3qAiQeT",
        "outputId": "b909fdf8-8eb6-450f-f3ef-b95e2eb9b844"
      },
      "execution_count": 22,
      "outputs": [
        {
          "output_type": "execute_result",
          "data": {
            "text/plain": [
              "1/3"
            ],
            "text/latex": "$\\displaystyle \\frac{1}{3}$"
          },
          "metadata": {},
          "execution_count": 22
        }
      ]
    },
    {
      "cell_type": "markdown",
      "source": [
        "### Important Constants"
      ],
      "metadata": {
        "id": "4jFUj3aXiqKI"
      }
    },
    {
      "cell_type": "code",
      "source": [
        "#@title The constant pi\n",
        "sp.pi"
      ],
      "metadata": {
        "colab": {
          "base_uri": "https://localhost:8080/",
          "height": 38
        },
        "id": "U7ozaK0HihT4",
        "outputId": "8c0f75a1-e121-4793-e1db-3fdb25e27236"
      },
      "execution_count": 23,
      "outputs": [
        {
          "output_type": "execute_result",
          "data": {
            "text/plain": [
              "pi"
            ],
            "text/latex": "$\\displaystyle \\pi$"
          },
          "metadata": {},
          "execution_count": 23
        }
      ]
    },
    {
      "cell_type": "code",
      "source": [
        "#@title The constant e\n",
        "sp.E"
      ],
      "metadata": {
        "colab": {
          "base_uri": "https://localhost:8080/",
          "height": 38
        },
        "id": "Q7TLpxV1izAY",
        "outputId": "617eb3e5-90fd-4ee9-cceb-a28b44c38682"
      },
      "execution_count": 24,
      "outputs": [
        {
          "output_type": "execute_result",
          "data": {
            "text/plain": [
              "E"
            ],
            "text/latex": "$\\displaystyle e$"
          },
          "metadata": {},
          "execution_count": 24
        }
      ]
    },
    {
      "cell_type": "code",
      "source": [
        "#@title Infinity\n",
        "sp.oo"
      ],
      "metadata": {
        "colab": {
          "base_uri": "https://localhost:8080/",
          "height": 37
        },
        "id": "u52VhJPmi008",
        "outputId": "b064237a-dc95-4b79-d5aa-ed8cb48f90c2"
      },
      "execution_count": 25,
      "outputs": [
        {
          "output_type": "execute_result",
          "data": {
            "text/plain": [
              "oo"
            ],
            "text/latex": "$\\displaystyle \\infty$"
          },
          "metadata": {},
          "execution_count": 25
        }
      ]
    },
    {
      "cell_type": "code",
      "source": [
        "#@title The imaginary unit\n",
        "sp.I"
      ],
      "metadata": {
        "colab": {
          "base_uri": "https://localhost:8080/",
          "height": 38
        },
        "id": "V5Yihn9HjAZo",
        "outputId": "b7e10391-2f0f-4913-ccd9-76b982d86591"
      },
      "execution_count": 26,
      "outputs": [
        {
          "output_type": "execute_result",
          "data": {
            "text/plain": [
              "I"
            ],
            "text/latex": "$\\displaystyle i$"
          },
          "metadata": {},
          "execution_count": 26
        }
      ]
    },
    {
      "cell_type": "markdown",
      "source": [
        "### Common Functions"
      ],
      "metadata": {
        "id": "hQgpf9yhjOdD"
      }
    },
    {
      "cell_type": "code",
      "source": [
        "#@title Exponential function\n",
        "sp.exp(x)"
      ],
      "metadata": {
        "colab": {
          "base_uri": "https://localhost:8080/",
          "height": 38
        },
        "id": "CtvY2Pg8jNy9",
        "outputId": "81b78c92-a753-401b-d02b-fac63c4369aa"
      },
      "execution_count": 27,
      "outputs": [
        {
          "output_type": "execute_result",
          "data": {
            "text/plain": [
              "exp(x)"
            ],
            "text/latex": "$\\displaystyle e^{x}$"
          },
          "metadata": {},
          "execution_count": 27
        }
      ]
    },
    {
      "cell_type": "code",
      "source": [
        "#@title Eulers identity $\\quad\\exp(\\pi{i})=-1$\n",
        "sp.exp(sp.pi * sp.I)"
      ],
      "metadata": {
        "colab": {
          "base_uri": "https://localhost:8080/",
          "height": 37
        },
        "id": "KIYO_H1njVQe",
        "outputId": "10dbe80b-e121-4ad0-b4aa-e7728ea6b8cc"
      },
      "execution_count": 28,
      "outputs": [
        {
          "output_type": "execute_result",
          "data": {
            "text/plain": [
              "-1"
            ],
            "text/latex": "$\\displaystyle -1$"
          },
          "metadata": {},
          "execution_count": 28
        }
      ]
    },
    {
      "cell_type": "code",
      "source": [
        "#@title Logarithm function\n",
        "sp.log(x)"
      ],
      "metadata": {
        "colab": {
          "base_uri": "https://localhost:8080/",
          "height": 38
        },
        "id": "Z6eKDBzfjczg",
        "outputId": "ace17abf-b72e-4a6f-cf3f-89366a4197b7"
      },
      "execution_count": 29,
      "outputs": [
        {
          "output_type": "execute_result",
          "data": {
            "text/plain": [
              "log(x)"
            ],
            "text/latex": "$\\displaystyle \\log{\\left(x \\right)}$"
          },
          "metadata": {},
          "execution_count": 29
        }
      ]
    },
    {
      "cell_type": "code",
      "source": [
        "#@title Trigonometric functions\n",
        "sp.sin(x) + sp.tan(x)"
      ],
      "metadata": {
        "colab": {
          "base_uri": "https://localhost:8080/",
          "height": 38
        },
        "id": "Mq4kG82Cj2J2",
        "outputId": "3e0cdd9e-ec39-4a59-98e3-7e9590cbce39"
      },
      "execution_count": 30,
      "outputs": [
        {
          "output_type": "execute_result",
          "data": {
            "text/plain": [
              "sin(x) + tan(x)"
            ],
            "text/latex": "$\\displaystyle \\sin{\\left(x \\right)} + \\tan{\\left(x \\right)}$"
          },
          "metadata": {},
          "execution_count": 30
        }
      ]
    },
    {
      "cell_type": "markdown",
      "source": [
        "## Solving Equations"
      ],
      "metadata": {
        "id": "7bOGD6MCkONB"
      }
    },
    {
      "cell_type": "code",
      "source": [
        "#@title Defining symbols $x$, $y$, and $z$\n",
        "x, y, z = sp.symbols(\"x y z\")\n",
        "x, y, z"
      ],
      "metadata": {
        "colab": {
          "base_uri": "https://localhost:8080/"
        },
        "id": "7fRUpL2nj9ap",
        "outputId": "ebe7cf75-c817-40d8-f238-37b5fd619e09"
      },
      "execution_count": 31,
      "outputs": [
        {
          "output_type": "execute_result",
          "data": {
            "text/plain": [
              "(x, y, z)"
            ]
          },
          "metadata": {},
          "execution_count": 31
        }
      ]
    },
    {
      "cell_type": "code",
      "source": [
        "#@title Defining Equations\n",
        "eq = sp.Eq(x**4, 16)\n",
        "eq"
      ],
      "metadata": {
        "colab": {
          "base_uri": "https://localhost:8080/",
          "height": 38
        },
        "id": "fH4fI5tfkbIo",
        "outputId": "723e06a3-e40e-4089-877c-9a2f8a552b15"
      },
      "execution_count": 32,
      "outputs": [
        {
          "output_type": "execute_result",
          "data": {
            "text/plain": [
              "Eq(x**4, 16)"
            ],
            "text/latex": "$\\displaystyle x^{4} = 16$"
          },
          "metadata": {},
          "execution_count": 32
        }
      ]
    },
    {
      "cell_type": "code",
      "source": [
        "#@title Solve Equation\n",
        "sp.solveset(eq)"
      ],
      "metadata": {
        "colab": {
          "base_uri": "https://localhost:8080/",
          "height": 38
        },
        "id": "Jx6JB8tAkpeG",
        "outputId": "4993a797-e4d8-4a14-a150-7b5c30fc86a4"
      },
      "execution_count": 33,
      "outputs": [
        {
          "output_type": "execute_result",
          "data": {
            "text/plain": [
              "{-2, 2, -2*I, 2*I}"
            ],
            "text/latex": "$\\displaystyle \\left\\{-2, 2, - 2 i, 2 i\\right\\}$"
          },
          "metadata": {},
          "execution_count": 33
        }
      ]
    },
    {
      "cell_type": "markdown",
      "source": [
        "---"
      ],
      "metadata": {
        "id": "M7gN_xF7mE3c"
      }
    },
    {
      "cell_type": "code",
      "source": [
        "eq = sp.Eq(x**3+y**2, 7 + 2 * z)\n",
        "eq"
      ],
      "metadata": {
        "colab": {
          "base_uri": "https://localhost:8080/",
          "height": 38
        },
        "id": "0CKwzGVqkzcq",
        "outputId": "8d0dd29f-d169-4d73-dfd6-d43c71402216"
      },
      "execution_count": 34,
      "outputs": [
        {
          "output_type": "execute_result",
          "data": {
            "text/plain": [
              "Eq(x**3 + y**2, 2*z + 7)"
            ],
            "text/latex": "$\\displaystyle x^{3} + y^{2} = 2 z + 7$"
          },
          "metadata": {},
          "execution_count": 34
        }
      ]
    },
    {
      "cell_type": "code",
      "source": [
        "#@title Solve Equation for $y$\n",
        "sp.solveset(eq, y)"
      ],
      "metadata": {
        "colab": {
          "base_uri": "https://localhost:8080/",
          "height": 47
        },
        "id": "VwPTrcZxlDnb",
        "outputId": "34a4ab22-ead4-4cf0-c7d2-9c0758d9365d"
      },
      "execution_count": 35,
      "outputs": [
        {
          "output_type": "execute_result",
          "data": {
            "text/plain": [
              "{-sqrt(-x**3 + 2*z + 7), sqrt(-x**3 + 2*z + 7)}"
            ],
            "text/latex": "$\\displaystyle \\left\\{- \\sqrt{- x^{3} + 2 z + 7}, \\sqrt{- x^{3} + 2 z + 7}\\right\\}$"
          },
          "metadata": {},
          "execution_count": 35
        }
      ]
    },
    {
      "cell_type": "markdown",
      "source": [
        "---"
      ],
      "metadata": {
        "id": "D5-G7AL6mBfO"
      }
    },
    {
      "cell_type": "code",
      "source": [
        "eq = sp.Eq(sp.cos(x)+sp.sin(x), 0)\n",
        "eq"
      ],
      "metadata": {
        "colab": {
          "base_uri": "https://localhost:8080/",
          "height": 38
        },
        "id": "dbTfdO_wlQM_",
        "outputId": "e25c3e14-f309-4927-c3d0-a48f8c26b455"
      },
      "execution_count": 36,
      "outputs": [
        {
          "output_type": "execute_result",
          "data": {
            "text/plain": [
              "Eq(sin(x) + cos(x), 0)"
            ],
            "text/latex": "$\\displaystyle \\sin{\\left(x \\right)} + \\cos{\\left(x \\right)} = 0$"
          },
          "metadata": {},
          "execution_count": 36
        }
      ]
    },
    {
      "cell_type": "code",
      "source": [
        "sp.solveset(eq)"
      ],
      "metadata": {
        "colab": {
          "base_uri": "https://localhost:8080/",
          "height": 58
        },
        "id": "JOiCD9uDl90x",
        "outputId": "1841f73f-bfb7-4afd-e838-f9cc6d35f751"
      },
      "execution_count": 37,
      "outputs": [
        {
          "output_type": "execute_result",
          "data": {
            "text/plain": [
              "Union(ImageSet(Lambda(_n, 2*_n*pi + 3*pi/4), Integers), ImageSet(Lambda(_n, 2*_n*pi + 7*pi/4), Integers))"
            ],
            "text/latex": "$\\displaystyle \\left\\{2 n \\pi + \\frac{3 \\pi}{4}\\; \\middle|\\; n \\in \\mathbb{Z}\\right\\} \\cup \\left\\{2 n \\pi + \\frac{7 \\pi}{4}\\; \\middle|\\; n \\in \\mathbb{Z}\\right\\}$"
          },
          "metadata": {},
          "execution_count": 37
        }
      ]
    },
    {
      "cell_type": "markdown",
      "source": [
        "---"
      ],
      "metadata": {
        "id": "MjPwb-FlmHmG"
      }
    },
    {
      "cell_type": "code",
      "source": [
        "#@title Defining a non-solvable equation\n",
        "eq = sp.Eq(sp.cos(x), x)\n",
        "eq"
      ],
      "metadata": {
        "colab": {
          "base_uri": "https://localhost:8080/",
          "height": 38
        },
        "id": "Ms_0FPNbl_gs",
        "outputId": "9e064ab2-d680-471e-a2ae-99ffc1877223"
      },
      "execution_count": 38,
      "outputs": [
        {
          "output_type": "execute_result",
          "data": {
            "text/plain": [
              "Eq(cos(x), x)"
            ],
            "text/latex": "$\\displaystyle \\cos{\\left(x \\right)} = x$"
          },
          "metadata": {},
          "execution_count": 38
        }
      ]
    },
    {
      "cell_type": "code",
      "source": [
        "sp.solveset(eq)"
      ],
      "metadata": {
        "colab": {
          "base_uri": "https://localhost:8080/",
          "height": 38
        },
        "id": "ijU7PFx6mRp5",
        "outputId": "57918f66-9bd1-45e7-ac24-749ea25adc47"
      },
      "execution_count": 39,
      "outputs": [
        {
          "output_type": "execute_result",
          "data": {
            "text/plain": [
              "ConditionSet(x, Eq(-x + cos(x), 0), Complexes)"
            ],
            "text/latex": "$\\displaystyle \\left\\{x\\; \\middle|\\; x \\in \\mathbb{C} \\wedge - x + \\cos{\\left(x \\right)} = 0 \\right\\}$"
          },
          "metadata": {},
          "execution_count": 39
        }
      ]
    },
    {
      "cell_type": "markdown",
      "source": [
        "### Solving Systems of Linear Equations"
      ],
      "metadata": {
        "id": "vIeIlRFLmbcu"
      }
    },
    {
      "cell_type": "code",
      "source": [
        "eq1 = sp.Eq(x, 3*y + z)\n",
        "eq1"
      ],
      "metadata": {
        "colab": {
          "base_uri": "https://localhost:8080/",
          "height": 38
        },
        "id": "hGelYZ-amUwF",
        "outputId": "a8fe7457-6e4a-4306-e36d-25dc4ca17898"
      },
      "execution_count": 40,
      "outputs": [
        {
          "output_type": "execute_result",
          "data": {
            "text/plain": [
              "Eq(x, 3*y + z)"
            ],
            "text/latex": "$\\displaystyle x = 3 y + z$"
          },
          "metadata": {},
          "execution_count": 40
        }
      ]
    },
    {
      "cell_type": "code",
      "source": [
        "eq2 = sp.Eq(y+z, 5*z - z)\n",
        "eq2"
      ],
      "metadata": {
        "colab": {
          "base_uri": "https://localhost:8080/",
          "height": 38
        },
        "id": "P3KZ8zaNmiqx",
        "outputId": "24f7773c-013e-45b1-d4ef-8a5e948bd207"
      },
      "execution_count": 41,
      "outputs": [
        {
          "output_type": "execute_result",
          "data": {
            "text/plain": [
              "Eq(y + z, 4*z)"
            ],
            "text/latex": "$\\displaystyle y + z = 4 z$"
          },
          "metadata": {},
          "execution_count": 41
        }
      ]
    },
    {
      "cell_type": "code",
      "source": [
        "sp.linsolve([eq1, eq2], x, y, z)"
      ],
      "metadata": {
        "colab": {
          "base_uri": "https://localhost:8080/",
          "height": 38
        },
        "id": "n8mJynKkmqGl",
        "outputId": "9b0764c8-9f30-4c8e-b4e1-3b65cb5e18ee"
      },
      "execution_count": 42,
      "outputs": [
        {
          "output_type": "execute_result",
          "data": {
            "text/plain": [
              "{(10*z, 3*z, z)}"
            ],
            "text/latex": "$\\displaystyle \\left\\{\\left( 10 z, \\  3 z, \\  z\\right)\\right\\}$"
          },
          "metadata": {},
          "execution_count": 42
        }
      ]
    },
    {
      "cell_type": "markdown",
      "source": [
        "## Simplifying"
      ],
      "metadata": {
        "id": "y9OBbiUwm85T"
      }
    },
    {
      "cell_type": "markdown",
      "source": [
        "### Expanding Other Expressions"
      ],
      "metadata": {
        "id": "nMwfjX9Onf2n"
      }
    },
    {
      "cell_type": "code",
      "source": [
        "sp.exp(x + y).expand()"
      ],
      "metadata": {
        "colab": {
          "base_uri": "https://localhost:8080/",
          "height": 38
        },
        "id": "Y7ueXaKinaAb",
        "outputId": "33fb57ed-e70e-4c9f-f32e-bf22e1fd9391"
      },
      "execution_count": 43,
      "outputs": [
        {
          "output_type": "execute_result",
          "data": {
            "text/plain": [
              "exp(x)*exp(y)"
            ],
            "text/latex": "$\\displaystyle e^{x} e^{y}$"
          },
          "metadata": {},
          "execution_count": 43
        }
      ]
    },
    {
      "cell_type": "code",
      "source": [
        "expr = (sp.cos(x) + sp.sin(y)) ** 2 - sp.cos(x) ** 2\n",
        "expr"
      ],
      "metadata": {
        "colab": {
          "base_uri": "https://localhost:8080/",
          "height": 39
        },
        "id": "o8BL_EhjnaGN",
        "outputId": "b53dd3fa-39f2-4ff5-d9c0-0375ccc36a42"
      },
      "execution_count": 44,
      "outputs": [
        {
          "output_type": "execute_result",
          "data": {
            "text/plain": [
              "(sin(y) + cos(x))**2 - cos(x)**2"
            ],
            "text/latex": "$\\displaystyle \\left(\\sin{\\left(y \\right)} + \\cos{\\left(x \\right)}\\right)^{2} - \\cos^{2}{\\left(x \\right)}$"
          },
          "metadata": {},
          "execution_count": 44
        }
      ]
    },
    {
      "cell_type": "code",
      "source": [
        "expr.expand()"
      ],
      "metadata": {
        "colab": {
          "base_uri": "https://localhost:8080/",
          "height": 38
        },
        "id": "bwTQL-8unaLd",
        "outputId": "c506c616-2db7-4fc0-bef2-8eec79fbfb56"
      },
      "execution_count": 45,
      "outputs": [
        {
          "output_type": "execute_result",
          "data": {
            "text/plain": [
              "sin(y)**2 + 2*sin(y)*cos(x)"
            ],
            "text/latex": "$\\displaystyle \\sin^{2}{\\left(y \\right)} + 2 \\sin{\\left(y \\right)} \\cos{\\left(x \\right)}$"
          },
          "metadata": {},
          "execution_count": 45
        }
      ]
    },
    {
      "cell_type": "code",
      "source": [
        "expr = sp.cos(x+y)\n",
        "expr"
      ],
      "metadata": {
        "colab": {
          "base_uri": "https://localhost:8080/",
          "height": 38
        },
        "id": "UMeqChUVoBJW",
        "outputId": "2a8d6091-b6e5-42cd-9027-e2281e66a2dd"
      },
      "execution_count": 46,
      "outputs": [
        {
          "output_type": "execute_result",
          "data": {
            "text/plain": [
              "cos(x + y)"
            ],
            "text/latex": "$\\displaystyle \\cos{\\left(x + y \\right)}$"
          },
          "metadata": {},
          "execution_count": 46
        }
      ]
    },
    {
      "cell_type": "code",
      "source": [
        "expr.expand(trig=True)"
      ],
      "metadata": {
        "colab": {
          "base_uri": "https://localhost:8080/",
          "height": 38
        },
        "id": "UandJ7qSnLPO",
        "outputId": "804bee60-70d4-41d4-9fcf-230256a4b368"
      },
      "execution_count": 47,
      "outputs": [
        {
          "output_type": "execute_result",
          "data": {
            "text/plain": [
              "-sin(x)*sin(y) + cos(x)*cos(y)"
            ],
            "text/latex": "$\\displaystyle - \\sin{\\left(x \\right)} \\sin{\\left(y \\right)} + \\cos{\\left(x \\right)} \\cos{\\left(y \\right)}$"
          },
          "metadata": {},
          "execution_count": 47
        }
      ]
    },
    {
      "cell_type": "markdown",
      "source": [
        "### Cancel and Apart"
      ],
      "metadata": {
        "id": "b1Kzk_nZoaFg"
      }
    },
    {
      "cell_type": "markdown",
      "source": [
        "The **cancel** method will take any rational function on the form $$\\frac{p(x)}{q(x)}$$ and factor it so that the polynomials $p(x)$ and $q(x)$ have no common factors."
      ],
      "metadata": {
        "id": "aXH_FrGzoh0M"
      }
    },
    {
      "cell_type": "code",
      "source": [
        "p = x ** 3 + 10 * x **2 + 31 * x +30\n",
        "q = x**2+12*x+35\n",
        "fraq = p/q\n",
        "fraq"
      ],
      "metadata": {
        "colab": {
          "base_uri": "https://localhost:8080/",
          "height": 55
        },
        "id": "RrvpgY4dmvmQ",
        "outputId": "c94795ee-9732-4524-8ace-0ba7f2204554"
      },
      "execution_count": 48,
      "outputs": [
        {
          "output_type": "execute_result",
          "data": {
            "text/plain": [
              "(x**3 + 10*x**2 + 31*x + 30)/(x**2 + 12*x + 35)"
            ],
            "text/latex": "$\\displaystyle \\frac{x^{3} + 10 x^{2} + 31 x + 30}{x^{2} + 12 x + 35}$"
          },
          "metadata": {},
          "execution_count": 48
        }
      ]
    },
    {
      "cell_type": "code",
      "source": [
        "fraq.cancel()"
      ],
      "metadata": {
        "colab": {
          "base_uri": "https://localhost:8080/",
          "height": 55
        },
        "id": "BWVoTovHpvau",
        "outputId": "8aa52765-ee79-4a7f-8c6d-4253c23f0bd7"
      },
      "execution_count": 49,
      "outputs": [
        {
          "output_type": "execute_result",
          "data": {
            "text/plain": [
              "(x**2 + 5*x + 6)/(x + 7)"
            ],
            "text/latex": "$\\displaystyle \\frac{x^{2} + 5 x + 6}{x + 7}$"
          },
          "metadata": {},
          "execution_count": 49
        }
      ]
    },
    {
      "cell_type": "markdown",
      "source": [
        "The **apart** method will perform the partial fraction decomposition on a rational function. This is useful when integrating a function."
      ],
      "metadata": {
        "id": "u-vh0t_fp7qq"
      }
    },
    {
      "cell_type": "code",
      "source": [
        "fraq.apart()"
      ],
      "metadata": {
        "colab": {
          "base_uri": "https://localhost:8080/",
          "height": 52
        },
        "id": "j4NSCcWzpxRB",
        "outputId": "57934c9e-4875-4d81-b995-7285bd051601"
      },
      "execution_count": 50,
      "outputs": [
        {
          "output_type": "execute_result",
          "data": {
            "text/plain": [
              "x - 2 + 20/(x + 7)"
            ],
            "text/latex": "$\\displaystyle x - 2 + \\frac{20}{x + 7}$"
          },
          "metadata": {},
          "execution_count": 50
        }
      ]
    },
    {
      "cell_type": "markdown",
      "source": [
        "### The General Simplify"
      ],
      "metadata": {
        "id": "jA1q8Y0yqKtm"
      }
    },
    {
      "cell_type": "markdown",
      "source": [
        "It is the most versatile, but also the slowest and most unspecific."
      ],
      "metadata": {
        "id": "-sNdjZubqO_P"
      }
    },
    {
      "cell_type": "code",
      "source": [
        "expr = - 2 * x **2 - x**3 + x * sp.exp(3)\n",
        "expr"
      ],
      "metadata": {
        "colab": {
          "base_uri": "https://localhost:8080/",
          "height": 38
        },
        "id": "9iwnYQ3mqf73",
        "outputId": "0db35f61-772f-4de5-8866-d13f17d3dc3e"
      },
      "execution_count": 51,
      "outputs": [
        {
          "output_type": "execute_result",
          "data": {
            "text/plain": [
              "-x**3 - 2*x**2 + x*exp(3)"
            ],
            "text/latex": "$\\displaystyle - x^{3} - 2 x^{2} + x e^{3}$"
          },
          "metadata": {},
          "execution_count": 51
        }
      ]
    },
    {
      "cell_type": "code",
      "source": [
        "expr.simplify()"
      ],
      "metadata": {
        "colab": {
          "base_uri": "https://localhost:8080/",
          "height": 39
        },
        "id": "45nKAHlOp3NB",
        "outputId": "8f16e21a-7c8e-43d2-cc29-17fec5181ae0"
      },
      "execution_count": 52,
      "outputs": [
        {
          "output_type": "execute_result",
          "data": {
            "text/plain": [
              "x*(-x**2 - 2*x + exp(3))"
            ],
            "text/latex": "$\\displaystyle x \\left(- x^{2} - 2 x + e^{3}\\right)$"
          },
          "metadata": {},
          "execution_count": 52
        }
      ]
    },
    {
      "cell_type": "markdown",
      "source": [
        "## Evaluating Expressions"
      ],
      "metadata": {
        "id": "Kj2ij1hVquBS"
      }
    },
    {
      "cell_type": "markdown",
      "source": [
        "### Real, Positive, or Integer Symbols"
      ],
      "metadata": {
        "id": "in3ql2kWrMMP"
      }
    },
    {
      "cell_type": "code",
      "source": [
        "z = sp.Symbol(\"z\")\n",
        "sp.log(sp.exp(z))"
      ],
      "metadata": {
        "colab": {
          "base_uri": "https://localhost:8080/",
          "height": 38
        },
        "id": "ewcEmzIcqiF2",
        "outputId": "af5555f1-1e1a-48fb-d851-f8f8b30b4758"
      },
      "execution_count": 53,
      "outputs": [
        {
          "output_type": "execute_result",
          "data": {
            "text/plain": [
              "log(exp(z))"
            ],
            "text/latex": "$\\displaystyle \\log{\\left(e^{z} \\right)}$"
          },
          "metadata": {},
          "execution_count": 53
        }
      ]
    },
    {
      "cell_type": "code",
      "source": [
        "#@title Make real symbols\n",
        "x0, x1, x2 = sp.symbols(\"x0:3\", real=True)\n",
        "sp.log(sp.exp(x0))"
      ],
      "metadata": {
        "colab": {
          "base_uri": "https://localhost:8080/",
          "height": 38
        },
        "id": "2R2Vu2mErVDK",
        "outputId": "dc25d1f9-8982-44a8-8de4-cbee55246d2c"
      },
      "execution_count": 54,
      "outputs": [
        {
          "output_type": "execute_result",
          "data": {
            "text/plain": [
              "x0"
            ],
            "text/latex": "$\\displaystyle x_{0}$"
          },
          "metadata": {},
          "execution_count": 54
        }
      ]
    },
    {
      "cell_type": "code",
      "source": [
        "sp.sqrt(x1 ** 2)"
      ],
      "metadata": {
        "colab": {
          "base_uri": "https://localhost:8080/",
          "height": 38
        },
        "id": "LtiPQkxNrw9d",
        "outputId": "73be5625-20ea-42ee-c31f-ae6c8d31eba6"
      },
      "execution_count": 55,
      "outputs": [
        {
          "output_type": "execute_result",
          "data": {
            "text/plain": [
              "Abs(x1)"
            ],
            "text/latex": "$\\displaystyle \\left|{x_{1}}\\right|$"
          },
          "metadata": {},
          "execution_count": 55
        }
      ]
    },
    {
      "cell_type": "code",
      "source": [
        "#@title Make a positive symbol\n",
        "y = sp.symbols(\"y\", positive=True)\n",
        "sp.sqrt(y ** 2)"
      ],
      "metadata": {
        "colab": {
          "base_uri": "https://localhost:8080/",
          "height": 38
        },
        "id": "4vo7f8wjrYuB",
        "outputId": "d9c90253-41ad-46b1-cada-6aa88e4a376d"
      },
      "execution_count": 56,
      "outputs": [
        {
          "output_type": "execute_result",
          "data": {
            "text/plain": [
              "y"
            ],
            "text/latex": "$\\displaystyle y$"
          },
          "metadata": {},
          "execution_count": 56
        }
      ]
    },
    {
      "cell_type": "code",
      "source": [
        "#@title Make an integer symbol\n",
        "n = sp.symbols(\"n\", integer=True)\n",
        "(-1)**(2*n)"
      ],
      "metadata": {
        "colab": {
          "base_uri": "https://localhost:8080/",
          "height": 37
        },
        "id": "mBpgXc5Lr4e8",
        "outputId": "cb0703b6-4a35-4147-e4e7-046f33364f75"
      },
      "execution_count": 57,
      "outputs": [
        {
          "output_type": "execute_result",
          "data": {
            "text/plain": [
              "1"
            ],
            "text/latex": "$\\displaystyle 1$"
          },
          "metadata": {},
          "execution_count": 57
        }
      ]
    },
    {
      "cell_type": "markdown",
      "source": [
        "### Point Evaluation of Expressions"
      ],
      "metadata": {
        "id": "yalFHYUrsRIM"
      }
    },
    {
      "cell_type": "code",
      "source": [
        "expr = x0 ** 2 + 5\n",
        "expr"
      ],
      "metadata": {
        "colab": {
          "base_uri": "https://localhost:8080/",
          "height": 38
        },
        "id": "ldy8jvThsHxq",
        "outputId": "6db94be1-b830-49e2-abd3-797f142e641f"
      },
      "execution_count": 58,
      "outputs": [
        {
          "output_type": "execute_result",
          "data": {
            "text/plain": [
              "x0**2 + 5"
            ],
            "text/latex": "$\\displaystyle x_{0}^{2} + 5$"
          },
          "metadata": {},
          "execution_count": 58
        }
      ]
    },
    {
      "cell_type": "code",
      "source": [
        "expr.subs(x0, 2)"
      ],
      "metadata": {
        "colab": {
          "base_uri": "https://localhost:8080/",
          "height": 37
        },
        "id": "IOLANNcmsXzu",
        "outputId": "74c026b3-de6c-4acb-fc41-af031cdfc39b"
      },
      "execution_count": 59,
      "outputs": [
        {
          "output_type": "execute_result",
          "data": {
            "text/plain": [
              "9"
            ],
            "text/latex": "$\\displaystyle 9$"
          },
          "metadata": {},
          "execution_count": 59
        }
      ]
    },
    {
      "cell_type": "code",
      "source": [
        "expr.subs(x0, x1**z)"
      ],
      "metadata": {
        "colab": {
          "base_uri": "https://localhost:8080/",
          "height": 38
        },
        "id": "x-XkkuRssarn",
        "outputId": "e089fc9c-6b7d-4995-8b14-b5dce0e8ec20"
      },
      "execution_count": 60,
      "outputs": [
        {
          "output_type": "execute_result",
          "data": {
            "text/plain": [
              "x1**(2*z) + 5"
            ],
            "text/latex": "$\\displaystyle x_{1}^{2 z} + 5$"
          },
          "metadata": {},
          "execution_count": 60
        }
      ]
    },
    {
      "cell_type": "markdown",
      "source": [
        "### Going Numeric"
      ],
      "metadata": {
        "id": "FbIqNsfGssUY"
      }
    },
    {
      "cell_type": "code",
      "source": [
        "sp.N(expr.subs(x0, sp.pi))"
      ],
      "metadata": {
        "colab": {
          "base_uri": "https://localhost:8080/",
          "height": 37
        },
        "id": "qMEi2vtasiYf",
        "outputId": "fd344ec5-cbe2-4df2-a648-507c36995a3e"
      },
      "execution_count": 61,
      "outputs": [
        {
          "output_type": "execute_result",
          "data": {
            "text/plain": [
              "14.8696044010894"
            ],
            "text/latex": "$\\displaystyle 14.8696044010894$"
          },
          "metadata": {},
          "execution_count": 61
        }
      ]
    },
    {
      "cell_type": "code",
      "source": [
        "#@title Can change the number of desimals\n",
        "sp.N(expr.subs(x0, sp.pi), 4)"
      ],
      "metadata": {
        "colab": {
          "base_uri": "https://localhost:8080/",
          "height": 37
        },
        "id": "yN37c1HmsyeN",
        "outputId": "fc0003a5-41bf-47bc-9c36-eaa27de25681"
      },
      "execution_count": 62,
      "outputs": [
        {
          "output_type": "execute_result",
          "data": {
            "text/plain": [
              "14.87"
            ],
            "text/latex": "$\\displaystyle 14.87$"
          },
          "metadata": {},
          "execution_count": 62
        }
      ]
    },
    {
      "cell_type": "code",
      "source": [
        "sp.N(expr.subs(5, sp.pi), 8)"
      ],
      "metadata": {
        "colab": {
          "base_uri": "https://localhost:8080/",
          "height": 38
        },
        "id": "mGQHPOoEtBhx",
        "outputId": "4ba51577-6c7c-43ef-9ef1-a9bbb56f8bb9"
      },
      "execution_count": 63,
      "outputs": [
        {
          "output_type": "execute_result",
          "data": {
            "text/plain": [
              "x0**2 + 3.1415927"
            ],
            "text/latex": "$\\displaystyle x_{0}^{2} + 3.1415927$"
          },
          "metadata": {},
          "execution_count": 63
        }
      ]
    },
    {
      "cell_type": "markdown",
      "source": [
        "## Derivatives"
      ],
      "metadata": {
        "id": "QYAb05rWtbEW"
      }
    },
    {
      "cell_type": "markdown",
      "source": [],
      "metadata": {
        "id": "wWHPrBcXtbLt"
      }
    },
    {
      "cell_type": "code",
      "source": [
        "expr =  sp.exp(2*x) + sp.sin(x)\n",
        "expr"
      ],
      "metadata": {
        "colab": {
          "base_uri": "https://localhost:8080/",
          "height": 38
        },
        "id": "PSq8F8ERtWCZ",
        "outputId": "295c8e50-e8ae-447f-a71d-2555a9d4abac"
      },
      "execution_count": 64,
      "outputs": [
        {
          "output_type": "execute_result",
          "data": {
            "text/plain": [
              "exp(2*x) + sin(x)"
            ],
            "text/latex": "$\\displaystyle e^{2 x} + \\sin{\\left(x \\right)}$"
          },
          "metadata": {},
          "execution_count": 64
        }
      ]
    },
    {
      "cell_type": "code",
      "source": [
        "#@title Differentiating the expression\n",
        "expr.diff()"
      ],
      "metadata": {
        "colab": {
          "base_uri": "https://localhost:8080/",
          "height": 38
        },
        "id": "Gn4b8VeLHCUw",
        "outputId": "8d473bff-2cef-4978-9e30-56fb7d63c826"
      },
      "execution_count": 65,
      "outputs": [
        {
          "output_type": "execute_result",
          "data": {
            "text/plain": [
              "2*exp(2*x) + cos(x)"
            ],
            "text/latex": "$\\displaystyle 2 e^{2 x} + \\cos{\\left(x \\right)}$"
          },
          "metadata": {},
          "execution_count": 65
        }
      ]
    },
    {
      "cell_type": "code",
      "source": [
        "#@title We can differentiate multiple times\n",
        "expr.diff(x, 2)"
      ],
      "metadata": {
        "colab": {
          "base_uri": "https://localhost:8080/",
          "height": 38
        },
        "id": "POqSD6t8HIxB",
        "outputId": "9e4ece83-7f67-4d19-eb51-e9d8d7687d1b"
      },
      "execution_count": 66,
      "outputs": [
        {
          "output_type": "execute_result",
          "data": {
            "text/plain": [
              "4*exp(2*x) - sin(x)"
            ],
            "text/latex": "$\\displaystyle 4 e^{2 x} - \\sin{\\left(x \\right)}$"
          },
          "metadata": {},
          "execution_count": 66
        }
      ]
    },
    {
      "cell_type": "markdown",
      "source": [
        "### Rewriting Functions"
      ],
      "metadata": {
        "id": "NHZGqRSuHr7n"
      }
    },
    {
      "cell_type": "code",
      "source": [
        "expr = sp.exp(sp.sinh(x)) / sp.exp(sp.exp(x) / 2)\n",
        "expr"
      ],
      "metadata": {
        "colab": {
          "base_uri": "https://localhost:8080/",
          "height": 42
        },
        "id": "FfxBTeglHW9H",
        "outputId": "fa1c5a0d-ce9c-4871-bef3-8356f8777d78"
      },
      "execution_count": 67,
      "outputs": [
        {
          "output_type": "execute_result",
          "data": {
            "text/plain": [
              "exp(-exp(x)/2)*exp(sinh(x))"
            ],
            "text/latex": "$\\displaystyle e^{- \\frac{e^{x}}{2}} e^{\\sinh{\\left(x \\right)}}$"
          },
          "metadata": {},
          "execution_count": 67
        }
      ]
    },
    {
      "cell_type": "code",
      "source": [
        "#@title Rewrites the expression in terms of exponential functions\n",
        "expr.rewrite(sp.exp).simplify()"
      ],
      "metadata": {
        "colab": {
          "base_uri": "https://localhost:8080/",
          "height": 43
        },
        "id": "Tr-nqebXH4zm",
        "outputId": "44a7a2f8-115b-4fca-d70f-6b59db2a2ec8"
      },
      "execution_count": 68,
      "outputs": [
        {
          "output_type": "execute_result",
          "data": {
            "text/plain": [
              "exp(-exp(-x)/2)"
            ],
            "text/latex": "$\\displaystyle e^{- \\frac{e^{- x}}{2}}$"
          },
          "metadata": {},
          "execution_count": 68
        }
      ]
    },
    {
      "cell_type": "markdown",
      "source": [
        "**Note:** We could not have simplified it right away!"
      ],
      "metadata": {
        "id": "9ghrCS8RIUhW"
      }
    },
    {
      "cell_type": "markdown",
      "source": [
        "#### Rewriting and Partial Derivatives"
      ],
      "metadata": {
        "id": "dcFsOHQoIii-"
      }
    },
    {
      "cell_type": "code",
      "source": [
        "f = sp.cos(x) * sp.cot(2 * y) ** 2\n",
        "f"
      ],
      "metadata": {
        "colab": {
          "base_uri": "https://localhost:8080/",
          "height": 38
        },
        "id": "pdhGUE7pH9lY",
        "outputId": "b72aadf8-0627-499a-d063-e107f67a8d7f"
      },
      "execution_count": 69,
      "outputs": [
        {
          "output_type": "execute_result",
          "data": {
            "text/plain": [
              "cos(x)*cot(2*y)**2"
            ],
            "text/latex": "$\\displaystyle \\cos{\\left(x \\right)} \\cot^{2}{\\left(2 y \\right)}$"
          },
          "metadata": {},
          "execution_count": 69
        }
      ]
    },
    {
      "cell_type": "code",
      "source": [
        "#@title Differenting the function with respect to y\n",
        "dfdy = f.diff(y)\n",
        "dfdy"
      ],
      "metadata": {
        "colab": {
          "base_uri": "https://localhost:8080/",
          "height": 39
        },
        "id": "GTCZjB2WIuk5",
        "outputId": "1feb252a-ccf1-45d8-a932-3cd850729ee6"
      },
      "execution_count": 70,
      "outputs": [
        {
          "output_type": "execute_result",
          "data": {
            "text/plain": [
              "(-4*cot(2*y)**2 - 4)*cos(x)*cot(2*y)"
            ],
            "text/latex": "$\\displaystyle \\left(- 4 \\cot^{2}{\\left(2 y \\right)} - 4\\right) \\cos{\\left(x \\right)} \\cot{\\left(2 y \\right)}$"
          },
          "metadata": {},
          "execution_count": 70
        }
      ]
    },
    {
      "cell_type": "code",
      "source": [
        "dfdy.simplify().rewrite(sp.sin)"
      ],
      "metadata": {
        "colab": {
          "base_uri": "https://localhost:8080/",
          "height": 61
        },
        "id": "GQpv5UThIxk2",
        "outputId": "46e3c48d-3615-4df3-cd12-c7a6f0c72e69"
      },
      "execution_count": 71,
      "outputs": [
        {
          "output_type": "execute_result",
          "data": {
            "text/plain": [
              "-2*sin(4*y)*sin(x + pi/2)/sin(2*y)**4"
            ],
            "text/latex": "$\\displaystyle - \\frac{2 \\sin{\\left(4 y \\right)} \\sin{\\left(x + \\frac{\\pi}{2} \\right)}}{\\sin^{4}{\\left(2 y \\right)}}$"
          },
          "metadata": {},
          "execution_count": 71
        }
      ]
    },
    {
      "cell_type": "code",
      "source": [
        "#@title Taking the third derivative with respect to x and second with respect to y\n",
        "f.diff(x, 3, y, 2)"
      ],
      "metadata": {
        "colab": {
          "base_uri": "https://localhost:8080/",
          "height": 39
        },
        "id": "UBQJj0I6I-Wr",
        "outputId": "570bca57-be1c-4384-d117-6e2ea9a68689"
      },
      "execution_count": 72,
      "outputs": [
        {
          "output_type": "execute_result",
          "data": {
            "text/plain": [
              "8*(cot(2*y)**2 + 1)*(3*cot(2*y)**2 + 1)*sin(x)"
            ],
            "text/latex": "$\\displaystyle 8 \\left(\\cot^{2}{\\left(2 y \\right)} + 1\\right) \\left(3 \\cot^{2}{\\left(2 y \\right)} + 1\\right) \\sin{\\left(x \\right)}$"
          },
          "metadata": {},
          "execution_count": 72
        }
      ]
    },
    {
      "cell_type": "markdown",
      "source": [
        "## Integrals"
      ],
      "metadata": {
        "id": "IaKbYAZIJZB1"
      }
    },
    {
      "cell_type": "markdown",
      "source": [
        "### Indefinite Integrals"
      ],
      "metadata": {
        "id": "vsgPnFceJgPk"
      }
    },
    {
      "cell_type": "code",
      "source": [
        "f = sp.cos(2*x)*sp.sin(3*x)\n",
        "f"
      ],
      "metadata": {
        "colab": {
          "base_uri": "https://localhost:8080/",
          "height": 38
        },
        "id": "vDokktA2JWc4",
        "outputId": "329560c9-cd77-44d7-f293-a663ab986a2f"
      },
      "execution_count": 73,
      "outputs": [
        {
          "output_type": "execute_result",
          "data": {
            "text/plain": [
              "sin(3*x)*cos(2*x)"
            ],
            "text/latex": "$\\displaystyle \\sin{\\left(3 x \\right)} \\cos{\\left(2 x \\right)}$"
          },
          "metadata": {},
          "execution_count": 73
        }
      ]
    },
    {
      "cell_type": "code",
      "source": [
        "#@title Integrate the function\n",
        "f.integrate()"
      ],
      "metadata": {
        "colab": {
          "base_uri": "https://localhost:8080/",
          "height": 53
        },
        "id": "AO_Dy6s8Jeh1",
        "outputId": "ea3d1c3c-9809-4b26-f1e4-6cfa15ff5558"
      },
      "execution_count": 74,
      "outputs": [
        {
          "output_type": "execute_result",
          "data": {
            "text/plain": [
              "-2*sin(2*x)*sin(3*x)/5 - 3*cos(2*x)*cos(3*x)/5"
            ],
            "text/latex": "$\\displaystyle - \\frac{2 \\sin{\\left(2 x \\right)} \\sin{\\left(3 x \\right)}}{5} - \\frac{3 \\cos{\\left(2 x \\right)} \\cos{\\left(3 x \\right)}}{5}$"
          },
          "metadata": {},
          "execution_count": 74
        }
      ]
    },
    {
      "cell_type": "code",
      "source": [
        "g = x ** y\n",
        "g"
      ],
      "metadata": {
        "colab": {
          "base_uri": "https://localhost:8080/",
          "height": 38
        },
        "id": "SDF9JrJfJelf",
        "outputId": "384d6594-6cfd-4937-950a-a6fc854263b5"
      },
      "execution_count": 75,
      "outputs": [
        {
          "output_type": "execute_result",
          "data": {
            "text/plain": [
              "x**y"
            ],
            "text/latex": "$\\displaystyle x^{y}$"
          },
          "metadata": {},
          "execution_count": 75
        }
      ]
    },
    {
      "cell_type": "code",
      "source": [
        "h = g.integrate(x)\n",
        "h"
      ],
      "metadata": {
        "colab": {
          "base_uri": "https://localhost:8080/",
          "height": 57
        },
        "id": "h0i0jk-nJepk",
        "outputId": "5a3fba00-1e4b-4757-b06c-b3b2eb00f086"
      },
      "execution_count": 76,
      "outputs": [
        {
          "output_type": "execute_result",
          "data": {
            "text/plain": [
              "x**(y + 1)/(y + 1)"
            ],
            "text/latex": "$\\displaystyle \\frac{x^{y + 1}}{y + 1}$"
          },
          "metadata": {},
          "execution_count": 76
        }
      ]
    },
    {
      "cell_type": "markdown",
      "source": [
        "### Definite Integrals"
      ],
      "metadata": {
        "id": "R7MinfJdKuPo"
      }
    },
    {
      "cell_type": "code",
      "source": [
        "#@title Spesifying upper and lower limits of the integral\n",
        "sp.integrate(f, (x, 0, sp.pi))"
      ],
      "metadata": {
        "colab": {
          "base_uri": "https://localhost:8080/",
          "height": 51
        },
        "id": "7C_1p-Z3KxtY",
        "outputId": "2953c391-5b6c-4f57-ddf5-7645cd5e2e03"
      },
      "execution_count": 77,
      "outputs": [
        {
          "output_type": "execute_result",
          "data": {
            "text/plain": [
              "6/5"
            ],
            "text/latex": "$\\displaystyle \\frac{6}{5}$"
          },
          "metadata": {},
          "execution_count": 77
        }
      ]
    },
    {
      "cell_type": "code",
      "source": [
        "u = sp.exp(-x)\n",
        "u"
      ],
      "metadata": {
        "colab": {
          "base_uri": "https://localhost:8080/",
          "height": 38
        },
        "id": "NlVEAQSIKyhw",
        "outputId": "fba3e6f8-45a6-44c9-d556-e2eaab0d3717"
      },
      "execution_count": 78,
      "outputs": [
        {
          "output_type": "execute_result",
          "data": {
            "text/plain": [
              "exp(-x)"
            ],
            "text/latex": "$\\displaystyle e^{- x}$"
          },
          "metadata": {},
          "execution_count": 78
        }
      ]
    },
    {
      "cell_type": "code",
      "source": [
        "u.integrate((x, 0, sp.oo))"
      ],
      "metadata": {
        "colab": {
          "base_uri": "https://localhost:8080/",
          "height": 37
        },
        "id": "5ZSSWCTwKyk6",
        "outputId": "9d764dcd-7356-48a1-aef3-7c1f82549e29"
      },
      "execution_count": 79,
      "outputs": [
        {
          "output_type": "execute_result",
          "data": {
            "text/plain": [
              "1"
            ],
            "text/latex": "$\\displaystyle 1$"
          },
          "metadata": {},
          "execution_count": 79
        }
      ]
    },
    {
      "cell_type": "markdown",
      "source": [
        "### Multivariable Integrals"
      ],
      "metadata": {
        "id": "Ewn9RfdcLV0b"
      }
    },
    {
      "cell_type": "code",
      "source": [
        "w = x * y * z ** 2\n",
        "w"
      ],
      "metadata": {
        "colab": {
          "base_uri": "https://localhost:8080/",
          "height": 38
        },
        "id": "BAgNlH7gKyou",
        "outputId": "351c2031-38a2-4e9b-eb78-5473a8054d80"
      },
      "execution_count": 80,
      "outputs": [
        {
          "output_type": "execute_result",
          "data": {
            "text/plain": [
              "x*y*z**2"
            ],
            "text/latex": "$\\displaystyle x y z^{2}$"
          },
          "metadata": {},
          "execution_count": 80
        }
      ]
    },
    {
      "cell_type": "code",
      "source": [
        "w.integrate(x, y)"
      ],
      "metadata": {
        "colab": {
          "base_uri": "https://localhost:8080/",
          "height": 54
        },
        "id": "4cBjH7HqLczl",
        "outputId": "e5c59776-09c3-4a00-88e3-0fb05a1a5bb8"
      },
      "execution_count": 81,
      "outputs": [
        {
          "output_type": "execute_result",
          "data": {
            "text/plain": [
              "x**2*y**2*z**2/4"
            ],
            "text/latex": "$\\displaystyle \\frac{x^{2} y^{2} z^{2}}{4}$"
          },
          "metadata": {},
          "execution_count": 81
        }
      ]
    },
    {
      "cell_type": "code",
      "source": [
        "w.integrate((x, 0, 1), (y, 1, 4), (z, 2, 3))"
      ],
      "metadata": {
        "colab": {
          "base_uri": "https://localhost:8080/",
          "height": 51
        },
        "id": "SHHgODD-Lc3Y",
        "outputId": "a559e619-6a41-4f6a-ba21-6b946961f6cd"
      },
      "execution_count": 82,
      "outputs": [
        {
          "output_type": "execute_result",
          "data": {
            "text/plain": [
              "95/4"
            ],
            "text/latex": "$\\displaystyle \\frac{95}{4}$"
          },
          "metadata": {},
          "execution_count": 82
        }
      ]
    },
    {
      "cell_type": "markdown",
      "source": [
        "## Limits"
      ],
      "metadata": {
        "id": "g6hYdMKOKuV2"
      }
    },
    {
      "cell_type": "code",
      "source": [
        "expr = x ** 2\n",
        "expr"
      ],
      "metadata": {
        "colab": {
          "base_uri": "https://localhost:8080/",
          "height": 38
        },
        "id": "XoLCYbw2Lc8I",
        "outputId": "3e331f85-b227-4428-8c76-b8197c982218"
      },
      "execution_count": 83,
      "outputs": [
        {
          "output_type": "execute_result",
          "data": {
            "text/plain": [
              "x**2"
            ],
            "text/latex": "$\\displaystyle x^{2}$"
          },
          "metadata": {},
          "execution_count": 83
        }
      ]
    },
    {
      "cell_type": "code",
      "source": [
        "sp.limit(expr, x, 1)"
      ],
      "metadata": {
        "colab": {
          "base_uri": "https://localhost:8080/",
          "height": 37
        },
        "id": "8ocDfYt1JeuQ",
        "outputId": "3ed04706-4971-42e6-f869-f16c3f29e3ac"
      },
      "execution_count": 84,
      "outputs": [
        {
          "output_type": "execute_result",
          "data": {
            "text/plain": [
              "1"
            ],
            "text/latex": "$\\displaystyle 1$"
          },
          "metadata": {},
          "execution_count": 84
        }
      ]
    },
    {
      "cell_type": "code",
      "source": [
        "expr = x / sp.exp(x)\n",
        "expr"
      ],
      "metadata": {
        "colab": {
          "base_uri": "https://localhost:8080/",
          "height": 38
        },
        "id": "JGS8F05QJeyA",
        "outputId": "fc88ba17-dc4a-4d1e-cec8-2b11675a5e56"
      },
      "execution_count": 85,
      "outputs": [
        {
          "output_type": "execute_result",
          "data": {
            "text/plain": [
              "x*exp(-x)"
            ],
            "text/latex": "$\\displaystyle x e^{- x}$"
          },
          "metadata": {},
          "execution_count": 85
        }
      ]
    },
    {
      "cell_type": "code",
      "source": [
        "sp.limit(expr, x, sp.oo)"
      ],
      "metadata": {
        "colab": {
          "base_uri": "https://localhost:8080/",
          "height": 37
        },
        "id": "w4qxIzcTMCbP",
        "outputId": "9f6908cd-dd71-4ce6-9241-dce711a80598"
      },
      "execution_count": 86,
      "outputs": [
        {
          "output_type": "execute_result",
          "data": {
            "text/plain": [
              "0"
            ],
            "text/latex": "$\\displaystyle 0$"
          },
          "metadata": {},
          "execution_count": 86
        }
      ]
    },
    {
      "cell_type": "markdown",
      "source": [
        "**Note:** Limits are taken from the right"
      ],
      "metadata": {
        "id": "Zw1qYpfBMM5W"
      }
    },
    {
      "cell_type": "code",
      "source": [
        "expr = 1 / x\n",
        "expr"
      ],
      "metadata": {
        "colab": {
          "base_uri": "https://localhost:8080/",
          "height": 51
        },
        "id": "SMuGrsm_MGlG",
        "outputId": "7c3ae5e3-40cd-4d64-d958-33f6edd3a04b"
      },
      "execution_count": 87,
      "outputs": [
        {
          "output_type": "execute_result",
          "data": {
            "text/plain": [
              "1/x"
            ],
            "text/latex": "$\\displaystyle \\frac{1}{x}$"
          },
          "metadata": {},
          "execution_count": 87
        }
      ]
    },
    {
      "cell_type": "code",
      "source": [
        "#@title Limit is by default the right limits in SymPy\n",
        "sp.limit(expr, x, 0)"
      ],
      "metadata": {
        "colab": {
          "base_uri": "https://localhost:8080/",
          "height": 37
        },
        "id": "9pgzlQlyMUJu",
        "outputId": "eded4f13-66bc-4634-b347-c404de939cfa"
      },
      "execution_count": 88,
      "outputs": [
        {
          "output_type": "execute_result",
          "data": {
            "text/plain": [
              "oo"
            ],
            "text/latex": "$\\displaystyle \\infty$"
          },
          "metadata": {},
          "execution_count": 88
        }
      ]
    },
    {
      "cell_type": "code",
      "source": [
        "#@title Getting the left limit\n",
        "sp.limit(expr, x, 0, \"-\")"
      ],
      "metadata": {
        "colab": {
          "base_uri": "https://localhost:8080/",
          "height": 37
        },
        "id": "h3t-TxzpMgci",
        "outputId": "96c5e288-0a1c-4c30-a041-89c3a3601518"
      },
      "execution_count": 89,
      "outputs": [
        {
          "output_type": "execute_result",
          "data": {
            "text/plain": [
              "-oo"
            ],
            "text/latex": "$\\displaystyle -\\infty$"
          },
          "metadata": {},
          "execution_count": 89
        }
      ]
    },
    {
      "cell_type": "code",
      "source": [
        "#@title Getting both right and left limit\n",
        "sp.limit(expr, x, 0, \"+-\")"
      ],
      "metadata": {
        "colab": {
          "base_uri": "https://localhost:8080/",
          "height": 37
        },
        "id": "qa9fpb4CMk9d",
        "outputId": "c8cf4a11-8c11-46cf-831a-7e039e3e08a7"
      },
      "execution_count": 90,
      "outputs": [
        {
          "output_type": "execute_result",
          "data": {
            "text/plain": [
              "zoo"
            ],
            "text/latex": "$\\displaystyle \\tilde{\\infty}$"
          },
          "metadata": {},
          "execution_count": 90
        }
      ]
    },
    {
      "cell_type": "markdown",
      "source": [
        "## Series"
      ],
      "metadata": {
        "id": "L2QM7mHgMwXZ"
      }
    },
    {
      "cell_type": "code",
      "source": [
        "sp.sin(x)"
      ],
      "metadata": {
        "colab": {
          "base_uri": "https://localhost:8080/",
          "height": 38
        },
        "id": "6h3nUA6xMowA",
        "outputId": "2bf56433-67cf-4d73-d4c0-f82d0a041678"
      },
      "execution_count": 91,
      "outputs": [
        {
          "output_type": "execute_result",
          "data": {
            "text/plain": [
              "sin(x)"
            ],
            "text/latex": "$\\displaystyle \\sin{\\left(x \\right)}$"
          },
          "metadata": {},
          "execution_count": 91
        }
      ]
    },
    {
      "cell_type": "code",
      "source": [
        "#@title Finding the Taylor series of $sin(x)$ at $x = \\frac{\\pi}{2}$\n",
        "sp.sin(x).series(x, sp.pi/2)"
      ],
      "metadata": {
        "colab": {
          "base_uri": "https://localhost:8080/",
          "height": 63
        },
        "id": "ZOkhcm-VMz75",
        "outputId": "f336042d-1fa9-4f3b-cb23-978a977a2716"
      },
      "execution_count": 92,
      "outputs": [
        {
          "output_type": "execute_result",
          "data": {
            "text/plain": [
              "1 - (x - pi/2)**2/2 + (x - pi/2)**4/24 + O((x - pi/2)**6, (x, pi/2))"
            ],
            "text/latex": "$\\displaystyle 1 - \\frac{\\left(x - \\frac{\\pi}{2}\\right)^{2}}{2} + \\frac{\\left(x - \\frac{\\pi}{2}\\right)^{4}}{24} + O\\left(\\left(x - \\frac{\\pi}{2}\\right)^{6}; x\\rightarrow \\frac{\\pi}{2}\\right)$"
          },
          "metadata": {},
          "execution_count": 92
        }
      ]
    },
    {
      "cell_type": "code",
      "source": [
        "#@title Get more terms\n",
        "sp.sin(x).series(x, n=10)"
      ],
      "metadata": {
        "colab": {
          "base_uri": "https://localhost:8080/",
          "height": 54
        },
        "id": "HJpyD-KCM16e",
        "outputId": "38bf612b-4f6a-4523-84aa-7be6ac9d07a3"
      },
      "execution_count": 93,
      "outputs": [
        {
          "output_type": "execute_result",
          "data": {
            "text/plain": [
              "x - x**3/6 + x**5/120 - x**7/5040 + x**9/362880 + O(x**10)"
            ],
            "text/latex": "$\\displaystyle x - \\frac{x^{3}}{6} + \\frac{x^{5}}{120} - \\frac{x^{7}}{5040} + \\frac{x^{9}}{362880} + O\\left(x^{10}\\right)$"
          },
          "metadata": {},
          "execution_count": 93
        }
      ]
    },
    {
      "cell_type": "code",
      "source": [
        "#@title We can do arithmetic with Taylor expressions\n",
        "sp.expand(sp.sin(x).series(x, n=10) * sp.series(sp.exp(sp.cos(x)), x, 0))"
      ],
      "metadata": {
        "colab": {
          "base_uri": "https://localhost:8080/",
          "height": 54
        },
        "id": "BB2--ZmWNQ1v",
        "outputId": "63c92c56-89cd-4b48-941e-859169eae037"
      },
      "execution_count": 94,
      "outputs": [
        {
          "output_type": "execute_result",
          "data": {
            "text/plain": [
              "E*x - 2*E*x**3/3 + 31*E*x**5/120 + O(x**7)"
            ],
            "text/latex": "$\\displaystyle e x - \\frac{2 e x^{3}}{3} + \\frac{31 e x^{5}}{120} + O\\left(x^{7}\\right)$"
          },
          "metadata": {},
          "execution_count": 94
        }
      ]
    },
    {
      "cell_type": "code",
      "source": [
        "#@title We can differentiate or integrate Taylor series\n",
        "sp.series(sp.exp(sp.cos(x)), x, 0, n=10).diff()"
      ],
      "metadata": {
        "colab": {
          "base_uri": "https://localhost:8080/",
          "height": 54
        },
        "id": "meP3VpKhNpCC",
        "outputId": "b4297e56-9003-4841-f239-292e98f30a97"
      },
      "execution_count": 95,
      "outputs": [
        {
          "output_type": "execute_result",
          "data": {
            "text/plain": [
              "-E*x + 2*E*x**3/3 - 31*E*x**5/120 + 379*E*x**7/5040 + O(x**9)"
            ],
            "text/latex": "$\\displaystyle - e x + \\frac{2 e x^{3}}{3} - \\frac{31 e x^{5}}{120} + \\frac{379 e x^{7}}{5040} + O\\left(x^{9}\\right)$"
          },
          "metadata": {},
          "execution_count": 95
        }
      ]
    },
    {
      "cell_type": "code",
      "source": [
        "#@title We can remove the \"Big O\" from the expression\n",
        "sp.series(sp.exp(sp.cos(x)), x, 0, n=5).removeO()"
      ],
      "metadata": {
        "colab": {
          "base_uri": "https://localhost:8080/",
          "height": 54
        },
        "id": "3YndFmviN3uz",
        "outputId": "b8dda1c8-9621-4e68-84b7-4ccbb32a941d"
      },
      "execution_count": 96,
      "outputs": [
        {
          "output_type": "execute_result",
          "data": {
            "text/plain": [
              "E*x**4/6 - E*x**2/2 + E"
            ],
            "text/latex": "$\\displaystyle \\frac{e x^{4}}{6} - \\frac{e x^{2}}{2} + e$"
          },
          "metadata": {},
          "execution_count": 96
        }
      ]
    },
    {
      "cell_type": "markdown",
      "source": [
        "## Ordinary Differential Equations"
      ],
      "metadata": {
        "id": "qPTTV6cCOMmG"
      }
    },
    {
      "cell_type": "code",
      "source": [
        "#@title Creating a function object\n",
        "f = sp.Function(\"f\")(x)\n",
        "f"
      ],
      "metadata": {
        "colab": {
          "base_uri": "https://localhost:8080/",
          "height": 38
        },
        "id": "I8Vg57LJOLGe",
        "outputId": "687e23ab-45e8-4fdb-bf45-8b0342013dc8"
      },
      "execution_count": 97,
      "outputs": [
        {
          "output_type": "execute_result",
          "data": {
            "text/plain": [
              "f(x)"
            ],
            "text/latex": "$\\displaystyle f{\\left(x \\right)}$"
          },
          "metadata": {},
          "execution_count": 97
        }
      ]
    },
    {
      "cell_type": "code",
      "source": [
        "#@title Taking the derivative of the function\n",
        "f.diff()"
      ],
      "metadata": {
        "colab": {
          "base_uri": "https://localhost:8080/",
          "height": 53
        },
        "id": "PSUujcEcOaCd",
        "outputId": "c772f278-d5b3-43a3-ee3d-248189a0ba9b"
      },
      "execution_count": 98,
      "outputs": [
        {
          "output_type": "execute_result",
          "data": {
            "text/plain": [
              "Derivative(f(x), x)"
            ],
            "text/latex": "$\\displaystyle \\frac{d}{d x} f{\\left(x \\right)}$"
          },
          "metadata": {},
          "execution_count": 98
        }
      ]
    },
    {
      "cell_type": "code",
      "source": [
        "#@title Creating a differential equation\n",
        "diff_eq = sp.Eq(x*f.diff(x,2) +f.diff(x), x**3)\n",
        "diff_eq"
      ],
      "metadata": {
        "colab": {
          "base_uri": "https://localhost:8080/",
          "height": 55
        },
        "id": "_v3WFiCFOgUW",
        "outputId": "7e160481-b24d-4d43-960a-c82fb320ffb4"
      },
      "execution_count": 99,
      "outputs": [
        {
          "output_type": "execute_result",
          "data": {
            "text/plain": [
              "Eq(x*Derivative(f(x), (x, 2)) + Derivative(f(x), x), x**3)"
            ],
            "text/latex": "$\\displaystyle x \\frac{d^{2}}{d x^{2}} f{\\left(x \\right)} + \\frac{d}{d x} f{\\left(x \\right)} = x^{3}$"
          },
          "metadata": {},
          "execution_count": 99
        }
      ]
    },
    {
      "cell_type": "code",
      "source": [
        "#@title Getting the RHS\n",
        "diff_eq.rhs"
      ],
      "metadata": {
        "colab": {
          "base_uri": "https://localhost:8080/",
          "height": 38
        },
        "id": "qcyuEMmjO1l2",
        "outputId": "f2d5038d-cb19-4f5a-84a8-8fdbb3d4ff3a"
      },
      "execution_count": 100,
      "outputs": [
        {
          "output_type": "execute_result",
          "data": {
            "text/plain": [
              "x**3"
            ],
            "text/latex": "$\\displaystyle x^{3}$"
          },
          "metadata": {},
          "execution_count": 100
        }
      ]
    },
    {
      "cell_type": "code",
      "source": [
        "#@title Solving the ODE\n",
        "sol = sp.dsolve(diff_eq, f)\n",
        "sol"
      ],
      "metadata": {
        "colab": {
          "base_uri": "https://localhost:8080/",
          "height": 54
        },
        "id": "7-o3LUj1O9Qq",
        "outputId": "120ef176-18a4-40e0-d533-5d3952970289"
      },
      "execution_count": 101,
      "outputs": [
        {
          "output_type": "execute_result",
          "data": {
            "text/plain": [
              "Eq(f(x), C1 + C2*log(x) + x**4/16)"
            ],
            "text/latex": "$\\displaystyle f{\\left(x \\right)} = C_{1} + C_{2} \\log{\\left(x \\right)} + \\frac{x^{4}}{16}$"
          },
          "metadata": {},
          "execution_count": 101
        }
      ]
    },
    {
      "cell_type": "code",
      "source": [
        "#@title Getting the solution\n",
        "expr = sol.rhs\n",
        "expr"
      ],
      "metadata": {
        "colab": {
          "base_uri": "https://localhost:8080/",
          "height": 54
        },
        "id": "_UyC7dYHPIDJ",
        "outputId": "1c8b3cd3-e644-4c47-b7ec-77a83e56bdf9"
      },
      "execution_count": 102,
      "outputs": [
        {
          "output_type": "execute_result",
          "data": {
            "text/plain": [
              "C1 + C2*log(x) + x**4/16"
            ],
            "text/latex": "$\\displaystyle C_{1} + C_{2} \\log{\\left(x \\right)} + \\frac{x^{4}}{16}$"
          },
          "metadata": {},
          "execution_count": 102
        }
      ]
    },
    {
      "cell_type": "code",
      "source": [
        "C2, C1, _ = tuple(expr.free_symbols)\n",
        "C1, C2"
      ],
      "metadata": {
        "colab": {
          "base_uri": "https://localhost:8080/"
        },
        "id": "7oJoF61LPNHh",
        "outputId": "c73ff16a-5f70-47b4-8fa6-e67d6816d046"
      },
      "execution_count": 103,
      "outputs": [
        {
          "output_type": "execute_result",
          "data": {
            "text/plain": [
              "(C2, x)"
            ]
          },
          "metadata": {},
          "execution_count": 103
        }
      ]
    },
    {
      "cell_type": "code",
      "source": [
        "#@title Setting the values $C1 = 0$ and $C2 = 1$\n",
        "expr.subs({C1: 0, C2: 1})"
      ],
      "metadata": {
        "colab": {
          "base_uri": "https://localhost:8080/",
          "height": 51
        },
        "id": "hCmjYw4pPW-X",
        "outputId": "28fcb379-d05c-432c-a7f9-ac0a35cd8d2d"
      },
      "execution_count": 104,
      "outputs": [
        {
          "output_type": "execute_result",
          "data": {
            "text/plain": [
              "C1 + 1/16"
            ],
            "text/latex": "$\\displaystyle C_{1} + \\frac{1}{16}$"
          },
          "metadata": {},
          "execution_count": 104
        }
      ]
    },
    {
      "cell_type": "markdown",
      "source": [
        "### Giving Initial Conditions"
      ],
      "metadata": {
        "id": "BcsqF2xRPv-2"
      }
    },
    {
      "cell_type": "markdown",
      "source": [
        "We now solve the initial value problem $$xf''(x)+f'(x)=x^3$$ with the initial conditions $f(1)=0$ and $f'(2)=1$."
      ],
      "metadata": {
        "id": "5m7ygojDQhC3"
      }
    },
    {
      "cell_type": "code",
      "source": [
        "#@title Writing a dictionary with the initial conditions\n",
        "ics = {f.subs(x, 1): 0, f.diff().subs(x, 2): 1}\n",
        "ics"
      ],
      "metadata": {
        "colab": {
          "base_uri": "https://localhost:8080/"
        },
        "id": "fUiIYwZaPrn8",
        "outputId": "89d3edb4-6711-4b27-9cba-7e0766a1548f"
      },
      "execution_count": 105,
      "outputs": [
        {
          "output_type": "execute_result",
          "data": {
            "text/plain": [
              "{f(1): 0, Subs(Derivative(f(x), x), x, 2): 1}"
            ]
          },
          "metadata": {},
          "execution_count": 105
        }
      ]
    },
    {
      "cell_type": "code",
      "source": [
        "#@title Solving the initial value problem\n",
        "ivp = sp.dsolve(diff_eq, ics=ics).rhs\n",
        "ivp"
      ],
      "metadata": {
        "colab": {
          "base_uri": "https://localhost:8080/",
          "height": 54
        },
        "id": "NJFOelXjP-ca",
        "outputId": "be245850-e51e-4a20-a63f-d2a67d420cab"
      },
      "execution_count": 106,
      "outputs": [
        {
          "output_type": "execute_result",
          "data": {
            "text/plain": [
              "x**4/16 - 2*log(x) - 1/16"
            ],
            "text/latex": "$\\displaystyle \\frac{x^{4}}{16} - 2 \\log{\\left(x \\right)} - \\frac{1}{16}$"
          },
          "metadata": {},
          "execution_count": 106
        }
      ]
    },
    {
      "cell_type": "code",
      "source": [
        "#@title Checking the first initial condition\n",
        "ivp.subs(x, 1)"
      ],
      "metadata": {
        "colab": {
          "base_uri": "https://localhost:8080/",
          "height": 37
        },
        "id": "ovrUyQd0QRNT",
        "outputId": "85774177-2d92-4afc-d24b-9a4b377633ed"
      },
      "execution_count": 107,
      "outputs": [
        {
          "output_type": "execute_result",
          "data": {
            "text/plain": [
              "0"
            ],
            "text/latex": "$\\displaystyle 0$"
          },
          "metadata": {},
          "execution_count": 107
        }
      ]
    },
    {
      "cell_type": "code",
      "source": [
        "#@title Checking the second initial condition\n",
        "ivp.diff().subs(x, 2)"
      ],
      "metadata": {
        "colab": {
          "base_uri": "https://localhost:8080/",
          "height": 37
        },
        "id": "PJAupgygQZ8B",
        "outputId": "50929db2-c25f-4fd9-d6be-4dcaa669b905"
      },
      "execution_count": 108,
      "outputs": [
        {
          "output_type": "execute_result",
          "data": {
            "text/plain": [
              "1"
            ],
            "text/latex": "$\\displaystyle 1$"
          },
          "metadata": {},
          "execution_count": 108
        }
      ]
    },
    {
      "cell_type": "code",
      "source": [
        "#@title Checking that the solution satisfies the ODE\n",
        "(x * ivp.diff(x, 2) + ivp.diff()).simplify()"
      ],
      "metadata": {
        "colab": {
          "base_uri": "https://localhost:8080/",
          "height": 38
        },
        "id": "lqbLQ4ZAQ-rd",
        "outputId": "d9b128bf-04bf-4e31-9787-374d380800a9"
      },
      "execution_count": 109,
      "outputs": [
        {
          "output_type": "execute_result",
          "data": {
            "text/plain": [
              "x**3"
            ],
            "text/latex": "$\\displaystyle x^{3}$"
          },
          "metadata": {},
          "execution_count": 109
        }
      ]
    },
    {
      "cell_type": "markdown",
      "source": [
        "## Going Numerical"
      ],
      "metadata": {
        "id": "LyDDH2ngRQgE"
      }
    },
    {
      "cell_type": "code",
      "source": [
        "expr = sp.pi * x**2 + 5 * x + sp.E\n",
        "expr"
      ],
      "metadata": {
        "colab": {
          "base_uri": "https://localhost:8080/",
          "height": 38
        },
        "id": "RVJqULBiRIb8",
        "outputId": "e768e81d-e61f-44e3-e646-0e63bd2b0f56"
      },
      "execution_count": 110,
      "outputs": [
        {
          "output_type": "execute_result",
          "data": {
            "text/plain": [
              "pi*x**2 + 5*x + E"
            ],
            "text/latex": "$\\displaystyle \\pi x^{2} + 5 x + e$"
          },
          "metadata": {},
          "execution_count": 110
        }
      ]
    },
    {
      "cell_type": "code",
      "source": [
        "value = expr.subs(x, 1)\n",
        "value"
      ],
      "metadata": {
        "colab": {
          "base_uri": "https://localhost:8080/",
          "height": 38
        },
        "id": "ixer65WTRiBb",
        "outputId": "db4707ef-5390-45c1-abd5-ee84839581e1"
      },
      "execution_count": 111,
      "outputs": [
        {
          "output_type": "execute_result",
          "data": {
            "text/plain": [
              "E + pi + 5"
            ],
            "text/latex": "$\\displaystyle e + \\pi + 5$"
          },
          "metadata": {},
          "execution_count": 111
        }
      ]
    },
    {
      "cell_type": "code",
      "source": [
        "value.evalf(8)"
      ],
      "metadata": {
        "colab": {
          "base_uri": "https://localhost:8080/",
          "height": 37
        },
        "id": "X3MkaMZRRn2Y",
        "outputId": "03d6b6c7-41f0-4771-fbd4-7f2a0811e7b8"
      },
      "execution_count": 112,
      "outputs": [
        {
          "output_type": "execute_result",
          "data": {
            "text/plain": [
              "10.859874"
            ],
            "text/latex": "$\\displaystyle 10.859874$"
          },
          "metadata": {},
          "execution_count": 112
        }
      ]
    },
    {
      "cell_type": "code",
      "source": [
        "sp.N(value, 8)"
      ],
      "metadata": {
        "colab": {
          "base_uri": "https://localhost:8080/",
          "height": 37
        },
        "id": "m925CyLnRp5W",
        "outputId": "4572f478-bebf-49c7-ea92-4073cb765e70"
      },
      "execution_count": 113,
      "outputs": [
        {
          "output_type": "execute_result",
          "data": {
            "text/plain": [
              "10.859874"
            ],
            "text/latex": "$\\displaystyle 10.859874$"
          },
          "metadata": {},
          "execution_count": 113
        }
      ]
    },
    {
      "cell_type": "markdown",
      "source": [
        "### Going Numerical with Lambdify"
      ],
      "metadata": {
        "id": "cz1vY_UKRxDF"
      }
    },
    {
      "cell_type": "code",
      "source": [
        "expr"
      ],
      "metadata": {
        "colab": {
          "base_uri": "https://localhost:8080/",
          "height": 38
        },
        "id": "nzwJJJdmST1_",
        "outputId": "306e60be-76b7-4c21-e5be-325a0b7c7a1f"
      },
      "execution_count": 114,
      "outputs": [
        {
          "output_type": "execute_result",
          "data": {
            "text/plain": [
              "pi*x**2 + 5*x + E"
            ],
            "text/latex": "$\\displaystyle \\pi x^{2} + 5 x + e$"
          },
          "metadata": {},
          "execution_count": 114
        }
      ]
    },
    {
      "cell_type": "code",
      "source": [
        "#@title \"Lambdifying\" the expression\n",
        "lambdified_expr = sp.lambdify(x, expr)\n",
        "lambdified_expr"
      ],
      "metadata": {
        "colab": {
          "base_uri": "https://localhost:8080/"
        },
        "id": "OcqZN_fIRut6",
        "outputId": "ef71ccff-0915-4926-980e-d5cbced512bd"
      },
      "execution_count": 115,
      "outputs": [
        {
          "output_type": "execute_result",
          "data": {
            "text/plain": [
              "<function _lambdifygenerated(x)>"
            ]
          },
          "metadata": {},
          "execution_count": 115
        }
      ]
    },
    {
      "cell_type": "code",
      "source": [
        "import numpy as np\n",
        "import matplotlib.pyplot as plt\n",
        "\n",
        "x = np.linspace(-20, 20, 1000)\n",
        "plt.plot(x, lambdified_expr(x));"
      ],
      "metadata": {
        "colab": {
          "base_uri": "https://localhost:8080/",
          "height": 430
        },
        "id": "nFMb62x0R8Y5",
        "outputId": "338ff02d-3de6-46e7-e12c-34d71b2934f5"
      },
      "execution_count": 116,
      "outputs": [
        {
          "output_type": "display_data",
          "data": {
            "text/plain": [
              "<Figure size 640x480 with 1 Axes>"
            ],
            "image/png": "[encoded data removed]"
          },
          "metadata": {}
        }
      ]
    },
    {
      "cell_type": "code",
      "source": [],
      "metadata": {
        "id": "QLQVHzZSSOiK"
      },
      "execution_count": 116,
      "outputs": []
    },
    {
      "cell_type": "markdown",
      "source": [
        "## Matrix"
      ],
      "metadata": {
        "id": "U1y8vP_aTzkU"
      }
    },
    {
      "cell_type": "code",
      "source": [
        "mat = sp.Matrix([[2, 1], [3, 4]])\n",
        "mat"
      ],
      "metadata": {
        "colab": {
          "base_uri": "https://localhost:8080/",
          "height": 58
        },
        "id": "ypob6XXGT1ag",
        "outputId": "6e3026d4-d9e7-4740-8829-4b6d6f685fab"
      },
      "execution_count": 117,
      "outputs": [
        {
          "output_type": "execute_result",
          "data": {
            "text/plain": [
              "Matrix([\n",
              "[2, 1],\n",
              "[3, 4]])"
            ],
            "text/latex": "$\\displaystyle \\left[\\begin{matrix}2 & 1\\\\3 & 4\\end{matrix}\\right]$"
          },
          "metadata": {},
          "execution_count": 117
        }
      ]
    },
    {
      "cell_type": "code",
      "source": [
        "mat.det()"
      ],
      "metadata": {
        "colab": {
          "base_uri": "https://localhost:8080/",
          "height": 37
        },
        "id": "ECxqi0e2l2GH",
        "outputId": "3ed454f1-bf59-46e1-a2b6-85ab5b16eedc"
      },
      "execution_count": 118,
      "outputs": [
        {
          "output_type": "execute_result",
          "data": {
            "text/plain": [
              "5"
            ],
            "text/latex": "$\\displaystyle 5$"
          },
          "metadata": {},
          "execution_count": 118
        }
      ]
    },
    {
      "cell_type": "code",
      "source": [
        "mat.row(0)"
      ],
      "metadata": {
        "colab": {
          "base_uri": "https://localhost:8080/",
          "height": 38
        },
        "id": "XTh4TJiil8Or",
        "outputId": "97c42ebb-8719-4d3f-c51a-a85b987e4cdd"
      },
      "execution_count": 119,
      "outputs": [
        {
          "output_type": "execute_result",
          "data": {
            "text/plain": [
              "Matrix([[2, 1]])"
            ],
            "text/latex": "$\\displaystyle \\left[\\begin{matrix}2 & 1\\end{matrix}\\right]$"
          },
          "metadata": {},
          "execution_count": 119
        }
      ]
    },
    {
      "cell_type": "code",
      "source": [
        "#@title Eye matrix\n",
        "sp.eye(3)"
      ],
      "metadata": {
        "colab": {
          "base_uri": "https://localhost:8080/",
          "height": 78
        },
        "id": "aXVj_yfXl8Tc",
        "outputId": "14e5c474-9daa-47eb-833f-36ce8bb56976"
      },
      "execution_count": 120,
      "outputs": [
        {
          "output_type": "execute_result",
          "data": {
            "text/plain": [
              "Matrix([\n",
              "[1, 0, 0],\n",
              "[0, 1, 0],\n",
              "[0, 0, 1]])"
            ],
            "text/latex": "$\\displaystyle \\left[\\begin{matrix}1 & 0 & 0\\\\0 & 1 & 0\\\\0 & 0 & 1\\end{matrix}\\right]$"
          },
          "metadata": {},
          "execution_count": 120
        }
      ]
    },
    {
      "cell_type": "code",
      "source": [
        "sp.ones(3, 2)"
      ],
      "metadata": {
        "colab": {
          "base_uri": "https://localhost:8080/",
          "height": 78
        },
        "id": "hS6oNBoGmMGg",
        "outputId": "6da8eedc-4a49-45b8-fd8d-01c0fc8d540e"
      },
      "execution_count": 121,
      "outputs": [
        {
          "output_type": "execute_result",
          "data": {
            "text/plain": [
              "Matrix([\n",
              "[1, 1],\n",
              "[1, 1],\n",
              "[1, 1]])"
            ],
            "text/latex": "$\\displaystyle \\left[\\begin{matrix}1 & 1\\\\1 & 1\\\\1 & 1\\end{matrix}\\right]$"
          },
          "metadata": {},
          "execution_count": 121
        }
      ]
    },
    {
      "cell_type": "code",
      "source": [
        "sp.zeros(1, 3)"
      ],
      "metadata": {
        "colab": {
          "base_uri": "https://localhost:8080/",
          "height": 38
        },
        "id": "uadpk4_wmMMh",
        "outputId": "1717a68e-1cba-417d-b570-aebdc7279baa"
      },
      "execution_count": 122,
      "outputs": [
        {
          "output_type": "execute_result",
          "data": {
            "text/plain": [
              "Matrix([[0, 0, 0]])"
            ],
            "text/latex": "$\\displaystyle \\left[\\begin{matrix}0 & 0 & 0\\end{matrix}\\right]$"
          },
          "metadata": {},
          "execution_count": 122
        }
      ]
    },
    {
      "cell_type": "code",
      "source": [
        "sp.Matrix([[x0+2, 4], [3, x1]])"
      ],
      "metadata": {
        "colab": {
          "base_uri": "https://localhost:8080/",
          "height": 58
        },
        "id": "bPe0EsPwmuBS",
        "outputId": "83bd1f00-1851-42c1-c9f5-777b8321f999"
      },
      "execution_count": 123,
      "outputs": [
        {
          "output_type": "execute_result",
          "data": {
            "text/plain": [
              "Matrix([\n",
              "[x0 + 2,  4],\n",
              "[     3, x1]])"
            ],
            "text/latex": "$\\displaystyle \\left[\\begin{matrix}x_{0} + 2 & 4\\\\3 & x_{1}\\end{matrix}\\right]$"
          },
          "metadata": {},
          "execution_count": 123
        }
      ]
    },
    {
      "cell_type": "code",
      "source": [
        "sp.MatrixSymbol(\"A\", 2, 3)"
      ],
      "metadata": {
        "colab": {
          "base_uri": "https://localhost:8080/",
          "height": 38
        },
        "id": "hmSjNzOqT5i-",
        "outputId": "ea427b20-3b6b-440d-8208-b25b4e4c662c"
      },
      "execution_count": 124,
      "outputs": [
        {
          "output_type": "execute_result",
          "data": {
            "text/plain": [
              "A"
            ],
            "text/latex": "$\\displaystyle A$"
          },
          "metadata": {},
          "execution_count": 124
        }
      ]
    },
    {
      "cell_type": "markdown",
      "source": [
        "## Examples"
      ],
      "metadata": {
        "id": "KNb8f4BxU3Ua"
      }
    },
    {
      "cell_type": "markdown",
      "source": [
        "### Ex1"
      ],
      "metadata": {
        "id": "DHXomHkFVCc1"
      }
    },
    {
      "cell_type": "markdown",
      "source": [
        "A falling object encounters a moving platform accelerating upwards:\n",
        "\n",
        "- Object: $h_o(t)=h_0-v_0t-\\frac{1}{2}gt^2$,\n",
        "- Platform: $h_p(t)=v_pt+\\frac{1}{2}qt^2$.\n",
        "\n",
        "**Find the initial velocity $v_o$ such that when the object and platform collide, they are moving at the same speed.**\n",
        "\n",
        "---"
      ],
      "metadata": {
        "id": "IQLvJVMNU5cm"
      }
    },
    {
      "cell_type": "markdown",
      "source": [
        "We need to solve for $v_0$ and $t$ in the two equations:\n",
        "\n",
        "$$\\cases{h_o(t)=h_p(t)\\\\\\frac{dh_o}{dt}(t)=-\\frac{dh_p}{dt}(t)}\\Longrightarrow\\cases{h_o(t)-h_p(t)=0\\\\\\frac{dh_o}{dt}(t)+\\frac{dh_p}{dt}(t)=0}$$"
      ],
      "metadata": {
        "id": "4fSY8lm5WRGW"
      }
    },
    {
      "cell_type": "code",
      "source": [
        "t, h_0, v_0, g, v_p, q = sp.symbols(\"t, h_0, v_0, g, v_p, q\", real=True, positive=True)\n",
        "\n",
        "h_o = h_0 - v_0 * t - sp.Rational(1, 2) * g * t ** 2\n",
        "h_p = v_p * t + sp.Rational(1, 2) * q * t ** 2\n",
        "\n",
        "[sol[1].simplify() for sol in sp.solve([h_o - h_p, h_o.diff(t) + h_p.diff(t)], [t, v_0])]"
      ],
      "metadata": {
        "colab": {
          "base_uri": "https://localhost:8080/"
        },
        "id": "AtCNOA43T9--",
        "outputId": "17753b60-b53e-4d5e-965a-b0fd22208569"
      },
      "execution_count": 125,
      "outputs": [
        {
          "output_type": "execute_result",
          "data": {
            "text/plain": [
              "[(-v_p*(g + q) + (-g + q)*sqrt(-2*g*h_0 + 6*h_0*q + 4*v_p**2))/(g - 3*q),\n",
              " (-v_p*(g + q) + (g - q)*sqrt(-2*g*h_0 + 6*h_0*q + 4*v_p**2))/(g - 3*q)]"
            ]
          },
          "metadata": {},
          "execution_count": 125
        }
      ]
    }
  ]
}